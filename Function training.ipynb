{
 "cells": [
  {
   "cell_type": "code",
   "execution_count": 10,
   "metadata": {},
   "outputs": [],
   "source": [
    "from bs4 import BeautifulSoup\n",
    "import requests\n",
    "from more_itertools import sliced\n",
    "import re\n",
    "import numpy as np\n",
    "import pandas as pd\n",
    "import time"
   ]
  },
  {
   "cell_type": "code",
   "execution_count": 12,
   "metadata": {},
   "outputs": [],
   "source": [
    "def välja():\n",
    "    print(\"Hej vänligen välj ett alternativ.\\n 1: Se något \\n 2: Något annat\")\n",
    "    while True:\n",
    "        try:\n",
    "            val = int(input(\"Vad väljer du?\"))\n",
    "            if mellan(val, 5, 1) == True:\n",
    "                return val\n",
    "            else:\n",
    "                print(\"det var inte mellan intervallet, vänligen välj en annan siffra\")\n",
    "                continue \n",
    "            \n",
    "        except: \n",
    "            print(\"det där var inte en siffra\")\n",
    "        else:\n",
    "            return val "
   ]
  },
  {
   "cell_type": "code",
   "execution_count": 14,
   "metadata": {},
   "outputs": [],
   "source": [
    "def se_lista(x):\n",
    "    for i in range(len(x)):\n",
    "        print(\"Tal nr {} är {}\".format(i,x[i]))\n",
    "    svar = input(\"Vill du se max, min och avg values? Svara y/n \")\n",
    "    if svar == \"y\":\n",
    "        print(\"Max värdet i listan är: {}\".format(max(x)))\n",
    "        print(\"Minsta värdet i listan är: {}\".format(min(x)))\n",
    "        print(\"Max värdet i listan är: {}\".format(np.mean(x)))\n",
    "        print(\"det finns: {} värden i listan\".format(len(x)))\n",
    "    else:\n",
    "        print(\"hej då\")\n",
    "    "
   ]
  },
  {
   "cell_type": "code",
   "execution_count": 16,
   "metadata": {},
   "outputs": [],
   "source": [
    "def huvud():\n",
    "    x = välja()\n",
    "    alternativ(x)"
   ]
  },
  {
   "cell_type": "code",
   "execution_count": 18,
   "metadata": {},
   "outputs": [],
   "source": [
    "def heltal(x):\n",
    "    try:\n",
    "        x = int(x)\n",
    "        print(\"det är en helsiffra\")\n",
    "    except ValueError:\n",
    "        print(\"det var inte en hel siffra\")"
   ]
  },
  {
   "cell_type": "markdown",
   "metadata": {},
   "source": []
  },
  {
   "cell_type": "code",
   "execution_count": 20,
   "metadata": {},
   "outputs": [],
   "source": [
    "# Använd denna för att få **ja** eller nej\n",
    "\n",
    "def yes_no(question):\n",
    "    while True: \n",
    "        answer = str(input(\"{} ,yes or no ? \".format(question)))\n",
    "        if answer == \"yes\":\n",
    "            print(\"you said yes\")\n",
    "            break\n",
    "        elif answer == \"no\":\n",
    "            print(\"you said no\")\n",
    "            break\n",
    "        else:\n",
    "            print(\"You gave the wrong input, plz only write yes or no\")"
   ]
  },
  {
   "cell_type": "code",
   "execution_count": 22,
   "metadata": {},
   "outputs": [
    {
     "output_type": "stream",
     "name": "stdout",
     "text": [
      "You gave the wrong input, plz only write yes or no\n",
      "You gave the wrong input, plz only write yes or no\n",
      "You gave the wrong input, plz only write yes or no\n",
      "You gave the wrong input, plz only write yes or no\n",
      "You gave the wrong input, plz only write yes or no\n",
      "You gave the wrong input, plz only write yes or no\n"
     ]
    },
    {
     "output_type": "error",
     "ename": "KeyboardInterrupt",
     "evalue": "Interrupted by user",
     "traceback": [
      "\u001b[1;31m---------------------------------------------------------------------------\u001b[0m",
      "\u001b[1;31mKeyboardInterrupt\u001b[0m                         Traceback (most recent call last)",
      "\u001b[1;32m<ipython-input-22-f1a3414a276a>\u001b[0m in \u001b[0;36m<module>\u001b[1;34m\u001b[0m\n\u001b[1;32m----> 1\u001b[1;33m \u001b[0myes_no\u001b[0m\u001b[1;33m(\u001b[0m\u001b[1;34m\"Vad vill du göra?\"\u001b[0m\u001b[1;33m)\u001b[0m\u001b[1;33m\u001b[0m\u001b[1;33m\u001b[0m\u001b[0m\n\u001b[0m",
      "\u001b[1;32m<ipython-input-20-6a98ad2b8e96>\u001b[0m in \u001b[0;36myes_no\u001b[1;34m(question)\u001b[0m\n\u001b[0;32m      3\u001b[0m \u001b[1;32mdef\u001b[0m \u001b[0myes_no\u001b[0m\u001b[1;33m(\u001b[0m\u001b[0mquestion\u001b[0m\u001b[1;33m)\u001b[0m\u001b[1;33m:\u001b[0m\u001b[1;33m\u001b[0m\u001b[1;33m\u001b[0m\u001b[0m\n\u001b[0;32m      4\u001b[0m     \u001b[1;32mwhile\u001b[0m \u001b[1;32mTrue\u001b[0m\u001b[1;33m:\u001b[0m\u001b[1;33m\u001b[0m\u001b[1;33m\u001b[0m\u001b[0m\n\u001b[1;32m----> 5\u001b[1;33m         \u001b[0manswer\u001b[0m \u001b[1;33m=\u001b[0m \u001b[0mstr\u001b[0m\u001b[1;33m(\u001b[0m\u001b[0minput\u001b[0m\u001b[1;33m(\u001b[0m\u001b[1;34m\"{} ,yes or no ? \"\u001b[0m\u001b[1;33m.\u001b[0m\u001b[0mformat\u001b[0m\u001b[1;33m(\u001b[0m\u001b[0mquestion\u001b[0m\u001b[1;33m)\u001b[0m\u001b[1;33m)\u001b[0m\u001b[1;33m)\u001b[0m\u001b[1;33m\u001b[0m\u001b[1;33m\u001b[0m\u001b[0m\n\u001b[0m\u001b[0;32m      6\u001b[0m         \u001b[1;32mif\u001b[0m \u001b[0manswer\u001b[0m \u001b[1;33m==\u001b[0m \u001b[1;34m\"yes\"\u001b[0m\u001b[1;33m:\u001b[0m\u001b[1;33m\u001b[0m\u001b[1;33m\u001b[0m\u001b[0m\n\u001b[0;32m      7\u001b[0m             \u001b[0mprint\u001b[0m\u001b[1;33m(\u001b[0m\u001b[1;34m\"you said yes\"\u001b[0m\u001b[1;33m)\u001b[0m\u001b[1;33m\u001b[0m\u001b[1;33m\u001b[0m\u001b[0m\n",
      "\u001b[1;32m~\\Anaconda3\\envs\\Spacy\\lib\\site-packages\\ipykernel\\kernelbase.py\u001b[0m in \u001b[0;36mraw_input\u001b[1;34m(self, prompt)\u001b[0m\n\u001b[0;32m    858\u001b[0m                 \u001b[1;34m\"raw_input was called, but this frontend does not support input requests.\"\u001b[0m\u001b[1;33m\u001b[0m\u001b[1;33m\u001b[0m\u001b[0m\n\u001b[0;32m    859\u001b[0m             )\n\u001b[1;32m--> 860\u001b[1;33m         return self._input_request(str(prompt),\n\u001b[0m\u001b[0;32m    861\u001b[0m             \u001b[0mself\u001b[0m\u001b[1;33m.\u001b[0m\u001b[0m_parent_ident\u001b[0m\u001b[1;33m,\u001b[0m\u001b[1;33m\u001b[0m\u001b[1;33m\u001b[0m\u001b[0m\n\u001b[0;32m    862\u001b[0m             \u001b[0mself\u001b[0m\u001b[1;33m.\u001b[0m\u001b[0m_parent_header\u001b[0m\u001b[1;33m,\u001b[0m\u001b[1;33m\u001b[0m\u001b[1;33m\u001b[0m\u001b[0m\n",
      "\u001b[1;32m~\\Anaconda3\\envs\\Spacy\\lib\\site-packages\\ipykernel\\kernelbase.py\u001b[0m in \u001b[0;36m_input_request\u001b[1;34m(self, prompt, ident, parent, password)\u001b[0m\n\u001b[0;32m    902\u001b[0m             \u001b[1;32mexcept\u001b[0m \u001b[0mKeyboardInterrupt\u001b[0m\u001b[1;33m:\u001b[0m\u001b[1;33m\u001b[0m\u001b[1;33m\u001b[0m\u001b[0m\n\u001b[0;32m    903\u001b[0m                 \u001b[1;31m# re-raise KeyboardInterrupt, to truncate traceback\u001b[0m\u001b[1;33m\u001b[0m\u001b[1;33m\u001b[0m\u001b[1;33m\u001b[0m\u001b[0m\n\u001b[1;32m--> 904\u001b[1;33m                 \u001b[1;32mraise\u001b[0m \u001b[0mKeyboardInterrupt\u001b[0m\u001b[1;33m(\u001b[0m\u001b[1;34m\"Interrupted by user\"\u001b[0m\u001b[1;33m)\u001b[0m \u001b[1;32mfrom\u001b[0m \u001b[1;32mNone\u001b[0m\u001b[1;33m\u001b[0m\u001b[1;33m\u001b[0m\u001b[0m\n\u001b[0m\u001b[0;32m    905\u001b[0m             \u001b[1;32mexcept\u001b[0m \u001b[0mException\u001b[0m \u001b[1;32mas\u001b[0m \u001b[0me\u001b[0m\u001b[1;33m:\u001b[0m\u001b[1;33m\u001b[0m\u001b[1;33m\u001b[0m\u001b[0m\n\u001b[0;32m    906\u001b[0m                 \u001b[0mself\u001b[0m\u001b[1;33m.\u001b[0m\u001b[0mlog\u001b[0m\u001b[1;33m.\u001b[0m\u001b[0mwarning\u001b[0m\u001b[1;33m(\u001b[0m\u001b[1;34m\"Invalid Message:\"\u001b[0m\u001b[1;33m,\u001b[0m \u001b[0mexc_info\u001b[0m\u001b[1;33m=\u001b[0m\u001b[1;32mTrue\u001b[0m\u001b[1;33m)\u001b[0m\u001b[1;33m\u001b[0m\u001b[1;33m\u001b[0m\u001b[0m\n",
      "\u001b[1;31mKeyboardInterrupt\u001b[0m: Interrupted by user"
     ]
    }
   ],
   "source": [
    "yes_no(\"Vad vill du göra?\")"
   ]
  },
  {
   "cell_type": "code",
   "execution_count": 11,
   "metadata": {},
   "outputs": [
    {
     "output_type": "stream",
     "name": "stdout",
     "text": [
      "The box a3 is black\n"
     ]
    }
   ],
   "source": [
    "# Övning 46 från boken The python workbook\n",
    "\n",
    "def square_box(sqr):\n",
    "    import re\n",
    "    if \"a\" in sqr or \"c\" in sqr or \"e\" in sqr or \"g\" in sqr:\n",
    "        num = re.findall(\"\\d+\", sqr)\n",
    "        number = int(num[0])\n",
    "        if number == 1 or 8 % number !=  0:\n",
    "            print(\"The box {} is black\".format(sqr))\n",
    "        else:\n",
    "            print(\"The box {} is white\".format(sqr))\n",
    "        \n",
    "    elif \"b\" in sqr or \"d\" in sqr or \"f\" in sqr or \"h\" in sqr:\n",
    "        num = re.findall(\"\\d+\", sqr)\n",
    "        number = int(num[0])\n",
    "        if number == 1 or 8 % number !=  0:\n",
    "            print(\"The box {} is white\".format(sqr))\n",
    "        else:\n",
    "            print(\"The box {} is black\".format(sqr))\n",
    "\n",
    "    else:\n",
    "        print(\"the correct input was not given\")\n",
    "        \n",
    "#tillkallar funtionen     \n",
    "square_box(\"a3\")"
   ]
  },
  {
   "cell_type": "code",
   "execution_count": 13,
   "metadata": {},
   "outputs": [
    {
     "output_type": "stream",
     "name": "stdout",
     "text": [
      "The average number is 4.0 and the number of elements in the list is 1\n",
      "The average number is 4.5 and the number of elements in the list is 2\n",
      "The average number is 5.0 and the number of elements in the list is 3\n",
      "The average number is 4.0 and the number of elements in the list is 4\n",
      "The average number is 3.6 and the number of elements in the list is 5\n"
     ]
    }
   ],
   "source": [
    "def get_ans():\n",
    "    while True:\n",
    "        try:\n",
    "            svar = int(input(\"Write a number to add, print 0 to quit \"))\n",
    "            return svar\n",
    "        except:\n",
    "            print(\"You printed a wrong input \")\n",
    "            \n",
    "            \n",
    "numbers = []\n",
    "svar = get_ans()\n",
    "while svar != 0:\n",
    "    numbers.append(svar)\n",
    "    average = sum(numbers)/len(numbers)\n",
    "    print(\"The average number is {} and the number of elements in the list is {}\".format(average, len(numbers)))\n",
    "    svar = get_ans()"
   ]
  },
  {
   "cell_type": "code",
   "execution_count": 15,
   "metadata": {},
   "outputs": [],
   "source": [
    "def ticket_price():\n",
    "    price = []\n",
    "    while True:\n",
    "        age = int(input(\"What is the age? \"))\n",
    "        if age == 0:\n",
    "            break\n",
    "        elif age < 2:\n",
    "            x = 0\n",
    "            price.append(0)\n",
    "        elif age >= 3 or age <= 12:\n",
    "            x = 12\n",
    "            price.append(x)\n",
    "        elif age >= 65:\n",
    "            x = 18\n",
    "            price.append(x)\n",
    "        else:\n",
    "            x = 23\n",
    "            price.append(x)\n",
    "    print(float(sum(price)))"
   ]
  },
  {
   "cell_type": "code",
   "execution_count": 17,
   "metadata": {},
   "outputs": [
    {
     "output_type": "stream",
     "name": "stdout",
     "text": [
      "2\n4\n"
     ]
    }
   ],
   "source": [
    "# Exercice 110 list \n",
    "# a list that print in sorted order\n",
    "\n",
    "lista = []\n",
    "try:\n",
    "    svar = int(input(\"write a number, enter 0 to quit \"))\n",
    "except:\n",
    "    print(\"det var ingen siffra\")\n",
    "while svar != 0:\n",
    "    lista.append(svar)\n",
    "    try:\n",
    "        svar = int(input(\"write a number, enter 0 to quit \"))\n",
    "    except:\n",
    "        print(\"no number, write 0\")\n",
    "lista.sort()    # sort = sorterar från minsta till högs\n",
    "for i in lista:\n",
    "    print(i)"
   ]
  },
  {
   "cell_type": "code",
   "execution_count": 19,
   "metadata": {},
   "outputs": [
    {
     "output_type": "stream",
     "name": "stdout",
     "text": [
      "5\n1\n3\n"
     ]
    }
   ],
   "source": [
    "# öVNING 111 skriver i reverse order\n",
    "\n",
    "lista = []\n",
    "svar = int(input(\"write a number, enter 0 to quit \"))\n",
    "while svar != 0:\n",
    "    lista.append(svar)\n",
    "    svar = int(input(\"write a number, enter 0 to quit \"))\n",
    "lista.reverse()\n",
    "\n",
    "for anws in lista:\n",
    "    print(anws)"
   ]
  },
  {
   "cell_type": "code",
   "execution_count": 21,
   "metadata": {},
   "outputs": [],
   "source": [
    "#Övning 112\n",
    "def minmaxremove(lista, x=2, y=2):\n",
    "    if len(lista) < 4:\n",
    "        print(\"Provide more than 4 values!\")\n",
    "    else:\n",
    "        lista.sort()\n",
    "        newlista = lista\n",
    "        newlista = newlista[x:-y]\n",
    "        print(\"The old list is: {}\".format(lista))\n",
    "        print(\"The new list is: {}\".format(newlista))"
   ]
  },
  {
   "cell_type": "code",
   "execution_count": 24,
   "metadata": {},
   "outputs": [],
   "source": [
    "def heltal(x):\n",
    "    try:\n",
    "        x = int(x)\n",
    "        print(\"det är en helsiffra\")\n",
    "    except ValueError:\n",
    "        print(\"det var inte en hel siffra\")"
   ]
  },
  {
   "cell_type": "code",
   "execution_count": 25,
   "metadata": {},
   "outputs": [
    {
     "output_type": "stream",
     "name": "stdout",
     "text": [
      "3\n",
      "5\n",
      "2\n",
      "3\n",
      "5\n",
      "7\n",
      "2\n",
      "3\n",
      "3\n",
      "5\n",
      "5\n",
      "7\n"
     ]
    }
   ],
   "source": [
    "# Övning 114\n",
    "lista = []\n",
    "svar = int(input(\"Skriv en siffra, skriv 0 för att sluta \"))\n",
    "while svar != 0:\n",
    "    print(svar)\n",
    "    lista.append(svar)\n",
    "    svar = int(input(\"Skriv en siffra, skriv 0 för att sluta\"))\n",
    "    \n",
    "lista.sort()\n",
    "for värde in lista:\n",
    "    print(värde)"
   ]
  },
  {
   "cell_type": "code",
   "execution_count": 26,
   "metadata": {},
   "outputs": [
    {
     "output_type": "execute_result",
     "data": {
      "text/plain": [
       "1"
      ]
     },
     "metadata": {},
     "execution_count": 26
    }
   ],
   "source": [
    "\n",
    "5 %2\n"
   ]
  },
  {
   "cell_type": "code",
   "execution_count": 27,
   "metadata": {},
   "outputs": [],
   "source": [
    "#Uppgift 115 \n",
    "def proper_div(x):\n",
    "    lista = []\n",
    "    x = int(x)\n",
    "    y = x-1\n",
    "    for i in range(y):\n",
    "        h = y-i  #h är värdet som man ska kolla\n",
    "        if x % h == 0:\n",
    "            lista.append(h)\n",
    "    return lista\n",
    "        \n",
    "        "
   ]
  },
  {
   "cell_type": "code",
   "execution_count": 28,
   "metadata": {},
   "outputs": [
    {
     "output_type": "execute_result",
     "data": {
      "text/plain": [
       "[9, 3, 1]"
      ]
     },
     "metadata": {},
     "execution_count": 28
    }
   ],
   "source": [
    "proper_div(27)"
   ]
  },
  {
   "cell_type": "code",
   "execution_count": 30,
   "metadata": {},
   "outputs": [
    {
     "output_type": "execute_result",
     "data": {
      "text/plain": [
       "25"
      ]
     },
     "metadata": {},
     "execution_count": 30
    }
   ],
   "source": [
    "100%75"
   ]
  },
  {
   "cell_type": "code",
   "execution_count": 29,
   "metadata": {},
   "outputs": [
    {
     "output_type": "stream",
     "name": "stdout",
     "text": [
      "14.0\n7.0\n4.666666666666667\n3.5\n2.8\n2.3333333333333335\n2.0\n1.75\n1.5555555555555556\n1.4\n1.2727272727272727\n1.1666666666666667\n1.0769230769230769\n1.0\n0.9333333333333333\n0.875\n0.8235294117647058\n0.7777777777777778\n0.7368421052631579\n0.7\n0.6666666666666666\n0.6363636363636364\n0.6086956521739131\n0.5833333333333334\n0.56\n0.5384615384615384\n0.5185185185185185\n0.5\n"
     ]
    }
   ],
   "source": [
    "# Uppgift 116 perfect numbers\n",
    "for i in range(28):\n",
    "    x = 8/2\n",
    "    y = 2*(i+1)\n",
    "    print(28/y)"
   ]
  },
  {
   "cell_type": "code",
   "execution_count": 31,
   "metadata": {},
   "outputs": [
    {
     "output_type": "execute_result",
     "data": {
      "text/plain": [
       "1.3333333333333333"
      ]
     },
     "metadata": {},
     "execution_count": 31
    }
   ],
   "source": [
    "8/6"
   ]
  },
  {
   "cell_type": "code",
   "execution_count": 32,
   "metadata": {},
   "outputs": [],
   "source": [
    "def perfect_number(x):\n",
    "    lista = []\n",
    "    x = int(x)\n",
    "    y = x-1\n",
    "    for i in range(y):\n",
    "        h = y-i  #h är värdet som man ska kolla\n",
    "        if x % h == 0:\n",
    "            lista.append(h)\n",
    "    k = sum(lista)\n",
    "    if k == x:\n",
    "        print(\"{} is a perfect number\".format(x))\n",
    "    else:\n",
    "        print(\"not a perfect number\")\n"
   ]
  },
  {
   "cell_type": "code",
   "execution_count": 35,
   "metadata": {},
   "outputs": [
    {
     "output_type": "stream",
     "name": "stdout",
     "text": [
      "28 is a perfect number\n"
     ]
    }
   ],
   "source": [
    "perfect_number(28)"
   ]
  },
  {
   "cell_type": "code",
   "execution_count": 38,
   "metadata": {
    "tags": []
   },
   "outputs": [
    {
     "output_type": "stream",
     "name": "stderr",
     "text": [
      "100%|██████████| 100/100 [00:00<00:00, 33420.75it/s]0 is a perfect number\n",
      "not a perfect number\n",
      "not a perfect number\n",
      "not a perfect number\n",
      "not a perfect number\n",
      "not a perfect number\n",
      "6 is a perfect number\n",
      "not a perfect number\n",
      "not a perfect number\n",
      "not a perfect number\n",
      "not a perfect number\n",
      "not a perfect number\n",
      "not a perfect number\n",
      "not a perfect number\n",
      "not a perfect number\n",
      "not a perfect number\n",
      "not a perfect number\n",
      "not a perfect number\n",
      "not a perfect number\n",
      "not a perfect number\n",
      "not a perfect number\n",
      "not a perfect number\n",
      "not a perfect number\n",
      "not a perfect number\n",
      "not a perfect number\n",
      "not a perfect number\n",
      "not a perfect number\n",
      "not a perfect number\n",
      "28 is a perfect number\n",
      "not a perfect number\n",
      "not a perfect number\n",
      "not a perfect number\n",
      "not a perfect number\n",
      "not a perfect number\n",
      "not a perfect number\n",
      "not a perfect number\n",
      "not a perfect number\n",
      "not a perfect number\n",
      "not a perfect number\n",
      "not a perfect number\n",
      "not a perfect number\n",
      "not a perfect number\n",
      "not a perfect number\n",
      "not a perfect number\n",
      "not a perfect number\n",
      "not a perfect number\n",
      "not a perfect number\n",
      "not a perfect number\n",
      "not a perfect number\n",
      "not a perfect number\n",
      "not a perfect number\n",
      "not a perfect number\n",
      "not a perfect number\n",
      "not a perfect number\n",
      "not a perfect number\n",
      "not a perfect number\n",
      "not a perfect number\n",
      "not a perfect number\n",
      "not a perfect number\n",
      "not a perfect number\n",
      "not a perfect number\n",
      "not a perfect number\n",
      "not a perfect number\n",
      "not a perfect number\n",
      "not a perfect number\n",
      "not a perfect number\n",
      "not a perfect number\n",
      "not a perfect number\n",
      "not a perfect number\n",
      "not a perfect number\n",
      "not a perfect number\n",
      "not a perfect number\n",
      "not a perfect number\n",
      "not a perfect number\n",
      "not a perfect number\n",
      "not a perfect number\n",
      "not a perfect number\n",
      "not a perfect number\n",
      "not a perfect number\n",
      "not a perfect number\n",
      "not a perfect number\n",
      "not a perfect number\n",
      "not a perfect number\n",
      "not a perfect number\n",
      "not a perfect number\n",
      "not a perfect number\n",
      "not a perfect number\n",
      "not a perfect number\n",
      "not a perfect number\n",
      "not a perfect number\n",
      "not a perfect number\n",
      "not a perfect number\n",
      "not a perfect number\n",
      "not a perfect number\n",
      "not a perfect number\n",
      "not a perfect number\n",
      "not a perfect number\n",
      "not a perfect number\n",
      "not a perfect number\n",
      "not a perfect number\n",
      "\n"
     ]
    }
   ],
   "source": [
    "from tqdm import *\n",
    "for i in trange(100):\n",
    "    perfect_number(i)"
   ]
  },
  {
   "cell_type": "code",
   "execution_count": 39,
   "metadata": {},
   "outputs": [],
   "source": [
    "# sphinx_gallery_thumbnail_number = 10\n",
    "import numpy as np\n",
    "import matplotlib.pyplot as plt\n",
    "from matplotlib.ticker import FuncFormatter\n",
    "\n",
    "data = {'Barton LLC': 109438.50,\n",
    "        'Frami, Hills and Schmidt': 103569.59,\n",
    "        'Fritsch, Russel and Anderson': 112214.71,\n",
    "        'Jerde-Hilpert': 112591.43,\n",
    "        'Keeling LLC': 100934.30,\n",
    "        'Koepp Ltd': 103660.54,\n",
    "        'Kulas Inc': 137351.96,\n",
    "        'Trantow-Barrows': 123381.38,\n",
    "        'White-Trantow': 135841.99,\n",
    "        'Will LLC': 104437.60}\n",
    "group_data = list(data.values())\n",
    "group_names = list(data.keys())\n",
    "group_mean = np.mean(group_data)"
   ]
  },
  {
   "cell_type": "code",
   "execution_count": 60,
   "metadata": {},
   "outputs": [
    {
     "output_type": "display_data",
     "data": {
      "text/plain": "<Figure size 432x288 with 1 Axes>",
      "image/svg+xml": "<?xml version=\"1.0\" encoding=\"utf-8\" standalone=\"no\"?>\r\n<!DOCTYPE svg PUBLIC \"-//W3C//DTD SVG 1.1//EN\"\r\n  \"http://www.w3.org/Graphics/SVG/1.1/DTD/svg11.dtd\">\r\n<!-- Created with matplotlib (https://matplotlib.org/) -->\r\n<svg height=\"272.16pt\" version=\"1.1\" viewBox=\"0 0 400.43378 272.16\" width=\"400.43378pt\" xmlns=\"http://www.w3.org/2000/svg\" xmlns:xlink=\"http://www.w3.org/1999/xlink\">\r\n <metadata>\r\n  <rdf:RDF xmlns:cc=\"http://creativecommons.org/ns#\" xmlns:dc=\"http://purl.org/dc/elements/1.1/\" xmlns:rdf=\"http://www.w3.org/1999/02/22-rdf-syntax-ns#\">\r\n   <cc:Work>\r\n    <dc:type rdf:resource=\"http://purl.org/dc/dcmitype/StillImage\"/>\r\n    <dc:date>2021-03-08T23:06:05.916312</dc:date>\r\n    <dc:format>image/svg+xml</dc:format>\r\n    <dc:creator>\r\n     <cc:Agent>\r\n      <dc:title>Matplotlib v3.3.2, https://matplotlib.org/</dc:title>\r\n     </cc:Agent>\r\n    </dc:creator>\r\n   </cc:Work>\r\n  </rdf:RDF>\r\n </metadata>\r\n <defs>\r\n  <style type=\"text/css\">*{stroke-linecap:butt;stroke-linejoin:round;}</style>\r\n </defs>\r\n <g id=\"figure_1\">\r\n  <g id=\"patch_1\">\r\n   <path d=\"M -0 272.16 \r\nL 400.43378 272.16 \r\nL 400.43378 0 \r\nL -0 0 \r\nz\r\n\" style=\"fill:#f0f0f0;\"/>\r\n  </g>\r\n  <g id=\"axes_1\">\r\n   <g id=\"patch_2\">\r\n    <path d=\"M 212.37 247.910625 \r\nL 393.23378 247.910625 \r\nL 393.23378 7.2 \r\nL 212.37 7.2 \r\nz\r\n\" style=\"fill:#f0f0f0;\"/>\r\n   </g>\r\n   <g id=\"matplotlib.axis_1\">\r\n    <g id=\"xtick_1\">\r\n     <g id=\"line2d_1\">\r\n      <path clip-path=\"url(#p7348bc71ee)\" d=\"M 212.37 247.910625 \r\nL 212.37 7.2 \r\n\" style=\"fill:none;stroke:#cbcbcb;\"/>\r\n     </g>\r\n     <g id=\"line2d_2\"/>\r\n     <g id=\"text_1\">\r\n      <!-- 0 -->\r\n      <g transform=\"translate(207.91625 262.048437)scale(0.14 -0.14)\">\r\n       <defs>\r\n        <path d=\"M 31.78125 66.40625 \r\nQ 24.171875 66.40625 20.328125 58.90625 \r\nQ 16.5 51.421875 16.5 36.375 \r\nQ 16.5 21.390625 20.328125 13.890625 \r\nQ 24.171875 6.390625 31.78125 6.390625 \r\nQ 39.453125 6.390625 43.28125 13.890625 \r\nQ 47.125 21.390625 47.125 36.375 \r\nQ 47.125 51.421875 43.28125 58.90625 \r\nQ 39.453125 66.40625 31.78125 66.40625 \r\nz\r\nM 31.78125 74.21875 \r\nQ 44.046875 74.21875 50.515625 64.515625 \r\nQ 56.984375 54.828125 56.984375 36.375 \r\nQ 56.984375 17.96875 50.515625 8.265625 \r\nQ 44.046875 -1.421875 31.78125 -1.421875 \r\nQ 19.53125 -1.421875 13.0625 8.265625 \r\nQ 6.59375 17.96875 6.59375 36.375 \r\nQ 6.59375 54.828125 13.0625 64.515625 \r\nQ 19.53125 74.21875 31.78125 74.21875 \r\nz\r\n\" id=\"DejaVuSans-48\"/>\r\n       </defs>\r\n       <use xlink:href=\"#DejaVuSans-48\"/>\r\n      </g>\r\n     </g>\r\n    </g>\r\n    <g id=\"xtick_2\">\r\n     <g id=\"line2d_3\">\r\n      <path clip-path=\"url(#p7348bc71ee)\" d=\"M 275.074318 247.910625 \r\nL 275.074318 7.2 \r\n\" style=\"fill:none;stroke:#cbcbcb;\"/>\r\n     </g>\r\n     <g id=\"line2d_4\"/>\r\n     <g id=\"text_2\">\r\n      <!-- 50000 -->\r\n      <g transform=\"translate(252.805568 262.048437)scale(0.14 -0.14)\">\r\n       <defs>\r\n        <path d=\"M 10.796875 72.90625 \r\nL 49.515625 72.90625 \r\nL 49.515625 64.59375 \r\nL 19.828125 64.59375 \r\nL 19.828125 46.734375 \r\nQ 21.96875 47.46875 24.109375 47.828125 \r\nQ 26.265625 48.1875 28.421875 48.1875 \r\nQ 40.625 48.1875 47.75 41.5 \r\nQ 54.890625 34.8125 54.890625 23.390625 \r\nQ 54.890625 11.625 47.5625 5.09375 \r\nQ 40.234375 -1.421875 26.90625 -1.421875 \r\nQ 22.3125 -1.421875 17.546875 -0.640625 \r\nQ 12.796875 0.140625 7.71875 1.703125 \r\nL 7.71875 11.625 \r\nQ 12.109375 9.234375 16.796875 8.0625 \r\nQ 21.484375 6.890625 26.703125 6.890625 \r\nQ 35.15625 6.890625 40.078125 11.328125 \r\nQ 45.015625 15.765625 45.015625 23.390625 \r\nQ 45.015625 31 40.078125 35.4375 \r\nQ 35.15625 39.890625 26.703125 39.890625 \r\nQ 22.75 39.890625 18.8125 39.015625 \r\nQ 14.890625 38.140625 10.796875 36.28125 \r\nz\r\n\" id=\"DejaVuSans-53\"/>\r\n       </defs>\r\n       <use xlink:href=\"#DejaVuSans-53\"/>\r\n       <use x=\"63.623047\" xlink:href=\"#DejaVuSans-48\"/>\r\n       <use x=\"127.246094\" xlink:href=\"#DejaVuSans-48\"/>\r\n       <use x=\"190.869141\" xlink:href=\"#DejaVuSans-48\"/>\r\n       <use x=\"254.492188\" xlink:href=\"#DejaVuSans-48\"/>\r\n      </g>\r\n     </g>\r\n    </g>\r\n    <g id=\"xtick_3\">\r\n     <g id=\"line2d_5\">\r\n      <path clip-path=\"url(#p7348bc71ee)\" d=\"M 337.778636 247.910625 \r\nL 337.778636 7.2 \r\n\" style=\"fill:none;stroke:#cbcbcb;\"/>\r\n     </g>\r\n     <g id=\"line2d_6\"/>\r\n     <g id=\"text_3\">\r\n      <!-- 100000 -->\r\n      <g transform=\"translate(311.056136 262.048437)scale(0.14 -0.14)\">\r\n       <defs>\r\n        <path d=\"M 12.40625 8.296875 \r\nL 28.515625 8.296875 \r\nL 28.515625 63.921875 \r\nL 10.984375 60.40625 \r\nL 10.984375 69.390625 \r\nL 28.421875 72.90625 \r\nL 38.28125 72.90625 \r\nL 38.28125 8.296875 \r\nL 54.390625 8.296875 \r\nL 54.390625 0 \r\nL 12.40625 0 \r\nz\r\n\" id=\"DejaVuSans-49\"/>\r\n       </defs>\r\n       <use xlink:href=\"#DejaVuSans-49\"/>\r\n       <use x=\"63.623047\" xlink:href=\"#DejaVuSans-48\"/>\r\n       <use x=\"127.246094\" xlink:href=\"#DejaVuSans-48\"/>\r\n       <use x=\"190.869141\" xlink:href=\"#DejaVuSans-48\"/>\r\n       <use x=\"254.492188\" xlink:href=\"#DejaVuSans-48\"/>\r\n       <use x=\"318.115234\" xlink:href=\"#DejaVuSans-48\"/>\r\n      </g>\r\n     </g>\r\n    </g>\r\n   </g>\r\n   <g id=\"matplotlib.axis_2\">\r\n    <g id=\"ytick_1\">\r\n     <g id=\"line2d_7\">\r\n      <path clip-path=\"url(#p7348bc71ee)\" d=\"M 212.37 228.037484 \r\nL 393.23378 228.037484 \r\n\" style=\"fill:none;stroke:#cbcbcb;\"/>\r\n     </g>\r\n     <g id=\"line2d_8\"/>\r\n     <g id=\"text_4\">\r\n      <!-- Barton LLC -->\r\n      <g transform=\"translate(132.17625 233.356391)scale(0.14 -0.14)\">\r\n       <defs>\r\n        <path d=\"M 19.671875 34.8125 \r\nL 19.671875 8.109375 \r\nL 35.5 8.109375 \r\nQ 43.453125 8.109375 47.28125 11.40625 \r\nQ 51.125 14.703125 51.125 21.484375 \r\nQ 51.125 28.328125 47.28125 31.5625 \r\nQ 43.453125 34.8125 35.5 34.8125 \r\nz\r\nM 19.671875 64.796875 \r\nL 19.671875 42.828125 \r\nL 34.28125 42.828125 \r\nQ 41.5 42.828125 45.03125 45.53125 \r\nQ 48.578125 48.25 48.578125 53.8125 \r\nQ 48.578125 59.328125 45.03125 62.0625 \r\nQ 41.5 64.796875 34.28125 64.796875 \r\nz\r\nM 9.8125 72.90625 \r\nL 35.015625 72.90625 \r\nQ 46.296875 72.90625 52.390625 68.21875 \r\nQ 58.5 63.53125 58.5 54.890625 \r\nQ 58.5 48.1875 55.375 44.234375 \r\nQ 52.25 40.28125 46.1875 39.3125 \r\nQ 53.46875 37.75 57.5 32.78125 \r\nQ 61.53125 27.828125 61.53125 20.40625 \r\nQ 61.53125 10.640625 54.890625 5.3125 \r\nQ 48.25 0 35.984375 0 \r\nL 9.8125 0 \r\nz\r\n\" id=\"DejaVuSans-66\"/>\r\n        <path d=\"M 34.28125 27.484375 \r\nQ 23.390625 27.484375 19.1875 25 \r\nQ 14.984375 22.515625 14.984375 16.5 \r\nQ 14.984375 11.71875 18.140625 8.90625 \r\nQ 21.296875 6.109375 26.703125 6.109375 \r\nQ 34.1875 6.109375 38.703125 11.40625 \r\nQ 43.21875 16.703125 43.21875 25.484375 \r\nL 43.21875 27.484375 \r\nz\r\nM 52.203125 31.203125 \r\nL 52.203125 0 \r\nL 43.21875 0 \r\nL 43.21875 8.296875 \r\nQ 40.140625 3.328125 35.546875 0.953125 \r\nQ 30.953125 -1.421875 24.3125 -1.421875 \r\nQ 15.921875 -1.421875 10.953125 3.296875 \r\nQ 6 8.015625 6 15.921875 \r\nQ 6 25.140625 12.171875 29.828125 \r\nQ 18.359375 34.515625 30.609375 34.515625 \r\nL 43.21875 34.515625 \r\nL 43.21875 35.40625 \r\nQ 43.21875 41.609375 39.140625 45 \r\nQ 35.0625 48.390625 27.6875 48.390625 \r\nQ 23 48.390625 18.546875 47.265625 \r\nQ 14.109375 46.140625 10.015625 43.890625 \r\nL 10.015625 52.203125 \r\nQ 14.9375 54.109375 19.578125 55.046875 \r\nQ 24.21875 56 28.609375 56 \r\nQ 40.484375 56 46.34375 49.84375 \r\nQ 52.203125 43.703125 52.203125 31.203125 \r\nz\r\n\" id=\"DejaVuSans-97\"/>\r\n        <path d=\"M 41.109375 46.296875 \r\nQ 39.59375 47.171875 37.8125 47.578125 \r\nQ 36.03125 48 33.890625 48 \r\nQ 26.265625 48 22.1875 43.046875 \r\nQ 18.109375 38.09375 18.109375 28.8125 \r\nL 18.109375 0 \r\nL 9.078125 0 \r\nL 9.078125 54.6875 \r\nL 18.109375 54.6875 \r\nL 18.109375 46.1875 \r\nQ 20.953125 51.171875 25.484375 53.578125 \r\nQ 30.03125 56 36.53125 56 \r\nQ 37.453125 56 38.578125 55.875 \r\nQ 39.703125 55.765625 41.0625 55.515625 \r\nz\r\n\" id=\"DejaVuSans-114\"/>\r\n        <path d=\"M 18.3125 70.21875 \r\nL 18.3125 54.6875 \r\nL 36.8125 54.6875 \r\nL 36.8125 47.703125 \r\nL 18.3125 47.703125 \r\nL 18.3125 18.015625 \r\nQ 18.3125 11.328125 20.140625 9.421875 \r\nQ 21.96875 7.515625 27.59375 7.515625 \r\nL 36.8125 7.515625 \r\nL 36.8125 0 \r\nL 27.59375 0 \r\nQ 17.1875 0 13.234375 3.875 \r\nQ 9.28125 7.765625 9.28125 18.015625 \r\nL 9.28125 47.703125 \r\nL 2.6875 47.703125 \r\nL 2.6875 54.6875 \r\nL 9.28125 54.6875 \r\nL 9.28125 70.21875 \r\nz\r\n\" id=\"DejaVuSans-116\"/>\r\n        <path d=\"M 30.609375 48.390625 \r\nQ 23.390625 48.390625 19.1875 42.75 \r\nQ 14.984375 37.109375 14.984375 27.296875 \r\nQ 14.984375 17.484375 19.15625 11.84375 \r\nQ 23.34375 6.203125 30.609375 6.203125 \r\nQ 37.796875 6.203125 41.984375 11.859375 \r\nQ 46.1875 17.53125 46.1875 27.296875 \r\nQ 46.1875 37.015625 41.984375 42.703125 \r\nQ 37.796875 48.390625 30.609375 48.390625 \r\nz\r\nM 30.609375 56 \r\nQ 42.328125 56 49.015625 48.375 \r\nQ 55.71875 40.765625 55.71875 27.296875 \r\nQ 55.71875 13.875 49.015625 6.21875 \r\nQ 42.328125 -1.421875 30.609375 -1.421875 \r\nQ 18.84375 -1.421875 12.171875 6.21875 \r\nQ 5.515625 13.875 5.515625 27.296875 \r\nQ 5.515625 40.765625 12.171875 48.375 \r\nQ 18.84375 56 30.609375 56 \r\nz\r\n\" id=\"DejaVuSans-111\"/>\r\n        <path d=\"M 54.890625 33.015625 \r\nL 54.890625 0 \r\nL 45.90625 0 \r\nL 45.90625 32.71875 \r\nQ 45.90625 40.484375 42.875 44.328125 \r\nQ 39.84375 48.1875 33.796875 48.1875 \r\nQ 26.515625 48.1875 22.3125 43.546875 \r\nQ 18.109375 38.921875 18.109375 30.90625 \r\nL 18.109375 0 \r\nL 9.078125 0 \r\nL 9.078125 54.6875 \r\nL 18.109375 54.6875 \r\nL 18.109375 46.1875 \r\nQ 21.34375 51.125 25.703125 53.5625 \r\nQ 30.078125 56 35.796875 56 \r\nQ 45.21875 56 50.046875 50.171875 \r\nQ 54.890625 44.34375 54.890625 33.015625 \r\nz\r\n\" id=\"DejaVuSans-110\"/>\r\n        <path id=\"DejaVuSans-32\"/>\r\n        <path d=\"M 9.8125 72.90625 \r\nL 19.671875 72.90625 \r\nL 19.671875 8.296875 \r\nL 55.171875 8.296875 \r\nL 55.171875 0 \r\nL 9.8125 0 \r\nz\r\n\" id=\"DejaVuSans-76\"/>\r\n        <path d=\"M 64.40625 67.28125 \r\nL 64.40625 56.890625 \r\nQ 59.421875 61.53125 53.78125 63.8125 \r\nQ 48.140625 66.109375 41.796875 66.109375 \r\nQ 29.296875 66.109375 22.65625 58.46875 \r\nQ 16.015625 50.828125 16.015625 36.375 \r\nQ 16.015625 21.96875 22.65625 14.328125 \r\nQ 29.296875 6.6875 41.796875 6.6875 \r\nQ 48.140625 6.6875 53.78125 8.984375 \r\nQ 59.421875 11.28125 64.40625 15.921875 \r\nL 64.40625 5.609375 \r\nQ 59.234375 2.09375 53.4375 0.328125 \r\nQ 47.65625 -1.421875 41.21875 -1.421875 \r\nQ 24.65625 -1.421875 15.125 8.703125 \r\nQ 5.609375 18.84375 5.609375 36.375 \r\nQ 5.609375 53.953125 15.125 64.078125 \r\nQ 24.65625 74.21875 41.21875 74.21875 \r\nQ 47.75 74.21875 53.53125 72.484375 \r\nQ 59.328125 70.75 64.40625 67.28125 \r\nz\r\n\" id=\"DejaVuSans-67\"/>\r\n       </defs>\r\n       <use xlink:href=\"#DejaVuSans-66\"/>\r\n       <use x=\"68.603516\" xlink:href=\"#DejaVuSans-97\"/>\r\n       <use x=\"129.882812\" xlink:href=\"#DejaVuSans-114\"/>\r\n       <use x=\"170.996094\" xlink:href=\"#DejaVuSans-116\"/>\r\n       <use x=\"210.205078\" xlink:href=\"#DejaVuSans-111\"/>\r\n       <use x=\"271.386719\" xlink:href=\"#DejaVuSans-110\"/>\r\n       <use x=\"334.765625\" xlink:href=\"#DejaVuSans-32\"/>\r\n       <use x=\"366.552734\" xlink:href=\"#DejaVuSans-76\"/>\r\n       <use x=\"422.265625\" xlink:href=\"#DejaVuSans-76\"/>\r\n       <use x=\"477.978516\" xlink:href=\"#DejaVuSans-67\"/>\r\n      </g>\r\n     </g>\r\n    </g>\r\n    <g id=\"ytick_2\">\r\n     <g id=\"line2d_9\">\r\n      <path clip-path=\"url(#p7348bc71ee)\" d=\"M 212.37 205.708113 \r\nL 393.23378 205.708113 \r\n\" style=\"fill:none;stroke:#cbcbcb;\"/>\r\n     </g>\r\n     <g id=\"line2d_10\"/>\r\n     <g id=\"text_5\">\r\n      <!-- Frami, Hills and Schmidt -->\r\n      <g transform=\"translate(38.984375 211.027019)scale(0.14 -0.14)\">\r\n       <defs>\r\n        <path d=\"M 9.8125 72.90625 \r\nL 51.703125 72.90625 \r\nL 51.703125 64.59375 \r\nL 19.671875 64.59375 \r\nL 19.671875 43.109375 \r\nL 48.578125 43.109375 \r\nL 48.578125 34.8125 \r\nL 19.671875 34.8125 \r\nL 19.671875 0 \r\nL 9.8125 0 \r\nz\r\n\" id=\"DejaVuSans-70\"/>\r\n        <path d=\"M 52 44.1875 \r\nQ 55.375 50.25 60.0625 53.125 \r\nQ 64.75 56 71.09375 56 \r\nQ 79.640625 56 84.28125 50.015625 \r\nQ 88.921875 44.046875 88.921875 33.015625 \r\nL 88.921875 0 \r\nL 79.890625 0 \r\nL 79.890625 32.71875 \r\nQ 79.890625 40.578125 77.09375 44.375 \r\nQ 74.3125 48.1875 68.609375 48.1875 \r\nQ 61.625 48.1875 57.5625 43.546875 \r\nQ 53.515625 38.921875 53.515625 30.90625 \r\nL 53.515625 0 \r\nL 44.484375 0 \r\nL 44.484375 32.71875 \r\nQ 44.484375 40.625 41.703125 44.40625 \r\nQ 38.921875 48.1875 33.109375 48.1875 \r\nQ 26.21875 48.1875 22.15625 43.53125 \r\nQ 18.109375 38.875 18.109375 30.90625 \r\nL 18.109375 0 \r\nL 9.078125 0 \r\nL 9.078125 54.6875 \r\nL 18.109375 54.6875 \r\nL 18.109375 46.1875 \r\nQ 21.1875 51.21875 25.484375 53.609375 \r\nQ 29.78125 56 35.6875 56 \r\nQ 41.65625 56 45.828125 52.96875 \r\nQ 50 49.953125 52 44.1875 \r\nz\r\n\" id=\"DejaVuSans-109\"/>\r\n        <path d=\"M 9.421875 54.6875 \r\nL 18.40625 54.6875 \r\nL 18.40625 0 \r\nL 9.421875 0 \r\nz\r\nM 9.421875 75.984375 \r\nL 18.40625 75.984375 \r\nL 18.40625 64.59375 \r\nL 9.421875 64.59375 \r\nz\r\n\" id=\"DejaVuSans-105\"/>\r\n        <path d=\"M 11.71875 12.40625 \r\nL 22.015625 12.40625 \r\nL 22.015625 4 \r\nL 14.015625 -11.625 \r\nL 7.71875 -11.625 \r\nL 11.71875 4 \r\nz\r\n\" id=\"DejaVuSans-44\"/>\r\n        <path d=\"M 9.8125 72.90625 \r\nL 19.671875 72.90625 \r\nL 19.671875 43.015625 \r\nL 55.515625 43.015625 \r\nL 55.515625 72.90625 \r\nL 65.375 72.90625 \r\nL 65.375 0 \r\nL 55.515625 0 \r\nL 55.515625 34.71875 \r\nL 19.671875 34.71875 \r\nL 19.671875 0 \r\nL 9.8125 0 \r\nz\r\n\" id=\"DejaVuSans-72\"/>\r\n        <path d=\"M 9.421875 75.984375 \r\nL 18.40625 75.984375 \r\nL 18.40625 0 \r\nL 9.421875 0 \r\nz\r\n\" id=\"DejaVuSans-108\"/>\r\n        <path d=\"M 44.28125 53.078125 \r\nL 44.28125 44.578125 \r\nQ 40.484375 46.53125 36.375 47.5 \r\nQ 32.28125 48.484375 27.875 48.484375 \r\nQ 21.1875 48.484375 17.84375 46.4375 \r\nQ 14.5 44.390625 14.5 40.28125 \r\nQ 14.5 37.15625 16.890625 35.375 \r\nQ 19.28125 33.59375 26.515625 31.984375 \r\nL 29.59375 31.296875 \r\nQ 39.15625 29.25 43.1875 25.515625 \r\nQ 47.21875 21.78125 47.21875 15.09375 \r\nQ 47.21875 7.46875 41.1875 3.015625 \r\nQ 35.15625 -1.421875 24.609375 -1.421875 \r\nQ 20.21875 -1.421875 15.453125 -0.5625 \r\nQ 10.6875 0.296875 5.421875 2 \r\nL 5.421875 11.28125 \r\nQ 10.40625 8.6875 15.234375 7.390625 \r\nQ 20.0625 6.109375 24.8125 6.109375 \r\nQ 31.15625 6.109375 34.5625 8.28125 \r\nQ 37.984375 10.453125 37.984375 14.40625 \r\nQ 37.984375 18.0625 35.515625 20.015625 \r\nQ 33.0625 21.96875 24.703125 23.78125 \r\nL 21.578125 24.515625 \r\nQ 13.234375 26.265625 9.515625 29.90625 \r\nQ 5.8125 33.546875 5.8125 39.890625 \r\nQ 5.8125 47.609375 11.28125 51.796875 \r\nQ 16.75 56 26.8125 56 \r\nQ 31.78125 56 36.171875 55.265625 \r\nQ 40.578125 54.546875 44.28125 53.078125 \r\nz\r\n\" id=\"DejaVuSans-115\"/>\r\n        <path d=\"M 45.40625 46.390625 \r\nL 45.40625 75.984375 \r\nL 54.390625 75.984375 \r\nL 54.390625 0 \r\nL 45.40625 0 \r\nL 45.40625 8.203125 \r\nQ 42.578125 3.328125 38.25 0.953125 \r\nQ 33.9375 -1.421875 27.875 -1.421875 \r\nQ 17.96875 -1.421875 11.734375 6.484375 \r\nQ 5.515625 14.40625 5.515625 27.296875 \r\nQ 5.515625 40.1875 11.734375 48.09375 \r\nQ 17.96875 56 27.875 56 \r\nQ 33.9375 56 38.25 53.625 \r\nQ 42.578125 51.265625 45.40625 46.390625 \r\nz\r\nM 14.796875 27.296875 \r\nQ 14.796875 17.390625 18.875 11.75 \r\nQ 22.953125 6.109375 30.078125 6.109375 \r\nQ 37.203125 6.109375 41.296875 11.75 \r\nQ 45.40625 17.390625 45.40625 27.296875 \r\nQ 45.40625 37.203125 41.296875 42.84375 \r\nQ 37.203125 48.484375 30.078125 48.484375 \r\nQ 22.953125 48.484375 18.875 42.84375 \r\nQ 14.796875 37.203125 14.796875 27.296875 \r\nz\r\n\" id=\"DejaVuSans-100\"/>\r\n        <path d=\"M 53.515625 70.515625 \r\nL 53.515625 60.890625 \r\nQ 47.90625 63.578125 42.921875 64.890625 \r\nQ 37.9375 66.21875 33.296875 66.21875 \r\nQ 25.25 66.21875 20.875 63.09375 \r\nQ 16.5 59.96875 16.5 54.203125 \r\nQ 16.5 49.359375 19.40625 46.890625 \r\nQ 22.3125 44.4375 30.421875 42.921875 \r\nL 36.375 41.703125 \r\nQ 47.40625 39.59375 52.65625 34.296875 \r\nQ 57.90625 29 57.90625 20.125 \r\nQ 57.90625 9.515625 50.796875 4.046875 \r\nQ 43.703125 -1.421875 29.984375 -1.421875 \r\nQ 24.8125 -1.421875 18.96875 -0.25 \r\nQ 13.140625 0.921875 6.890625 3.21875 \r\nL 6.890625 13.375 \r\nQ 12.890625 10.015625 18.65625 8.296875 \r\nQ 24.421875 6.59375 29.984375 6.59375 \r\nQ 38.421875 6.59375 43.015625 9.90625 \r\nQ 47.609375 13.234375 47.609375 19.390625 \r\nQ 47.609375 24.75 44.3125 27.78125 \r\nQ 41.015625 30.8125 33.5 32.328125 \r\nL 27.484375 33.5 \r\nQ 16.453125 35.6875 11.515625 40.375 \r\nQ 6.59375 45.0625 6.59375 53.421875 \r\nQ 6.59375 63.09375 13.40625 68.65625 \r\nQ 20.21875 74.21875 32.171875 74.21875 \r\nQ 37.3125 74.21875 42.625 73.28125 \r\nQ 47.953125 72.359375 53.515625 70.515625 \r\nz\r\n\" id=\"DejaVuSans-83\"/>\r\n        <path d=\"M 48.78125 52.59375 \r\nL 48.78125 44.1875 \r\nQ 44.96875 46.296875 41.140625 47.34375 \r\nQ 37.3125 48.390625 33.40625 48.390625 \r\nQ 24.65625 48.390625 19.8125 42.84375 \r\nQ 14.984375 37.3125 14.984375 27.296875 \r\nQ 14.984375 17.28125 19.8125 11.734375 \r\nQ 24.65625 6.203125 33.40625 6.203125 \r\nQ 37.3125 6.203125 41.140625 7.25 \r\nQ 44.96875 8.296875 48.78125 10.40625 \r\nL 48.78125 2.09375 \r\nQ 45.015625 0.34375 40.984375 -0.53125 \r\nQ 36.96875 -1.421875 32.421875 -1.421875 \r\nQ 20.0625 -1.421875 12.78125 6.34375 \r\nQ 5.515625 14.109375 5.515625 27.296875 \r\nQ 5.515625 40.671875 12.859375 48.328125 \r\nQ 20.21875 56 33.015625 56 \r\nQ 37.15625 56 41.109375 55.140625 \r\nQ 45.0625 54.296875 48.78125 52.59375 \r\nz\r\n\" id=\"DejaVuSans-99\"/>\r\n        <path d=\"M 54.890625 33.015625 \r\nL 54.890625 0 \r\nL 45.90625 0 \r\nL 45.90625 32.71875 \r\nQ 45.90625 40.484375 42.875 44.328125 \r\nQ 39.84375 48.1875 33.796875 48.1875 \r\nQ 26.515625 48.1875 22.3125 43.546875 \r\nQ 18.109375 38.921875 18.109375 30.90625 \r\nL 18.109375 0 \r\nL 9.078125 0 \r\nL 9.078125 75.984375 \r\nL 18.109375 75.984375 \r\nL 18.109375 46.1875 \r\nQ 21.34375 51.125 25.703125 53.5625 \r\nQ 30.078125 56 35.796875 56 \r\nQ 45.21875 56 50.046875 50.171875 \r\nQ 54.890625 44.34375 54.890625 33.015625 \r\nz\r\n\" id=\"DejaVuSans-104\"/>\r\n       </defs>\r\n       <use xlink:href=\"#DejaVuSans-70\"/>\r\n       <use x=\"50.269531\" xlink:href=\"#DejaVuSans-114\"/>\r\n       <use x=\"91.382812\" xlink:href=\"#DejaVuSans-97\"/>\r\n       <use x=\"152.662109\" xlink:href=\"#DejaVuSans-109\"/>\r\n       <use x=\"250.074219\" xlink:href=\"#DejaVuSans-105\"/>\r\n       <use x=\"277.857422\" xlink:href=\"#DejaVuSans-44\"/>\r\n       <use x=\"309.644531\" xlink:href=\"#DejaVuSans-32\"/>\r\n       <use x=\"341.431641\" xlink:href=\"#DejaVuSans-72\"/>\r\n       <use x=\"416.626953\" xlink:href=\"#DejaVuSans-105\"/>\r\n       <use x=\"444.410156\" xlink:href=\"#DejaVuSans-108\"/>\r\n       <use x=\"472.193359\" xlink:href=\"#DejaVuSans-108\"/>\r\n       <use x=\"499.976562\" xlink:href=\"#DejaVuSans-115\"/>\r\n       <use x=\"552.076172\" xlink:href=\"#DejaVuSans-32\"/>\r\n       <use x=\"583.863281\" xlink:href=\"#DejaVuSans-97\"/>\r\n       <use x=\"645.142578\" xlink:href=\"#DejaVuSans-110\"/>\r\n       <use x=\"708.521484\" xlink:href=\"#DejaVuSans-100\"/>\r\n       <use x=\"771.998047\" xlink:href=\"#DejaVuSans-32\"/>\r\n       <use x=\"803.785156\" xlink:href=\"#DejaVuSans-83\"/>\r\n       <use x=\"867.261719\" xlink:href=\"#DejaVuSans-99\"/>\r\n       <use x=\"922.242188\" xlink:href=\"#DejaVuSans-104\"/>\r\n       <use x=\"985.621094\" xlink:href=\"#DejaVuSans-109\"/>\r\n       <use x=\"1083.033203\" xlink:href=\"#DejaVuSans-105\"/>\r\n       <use x=\"1110.816406\" xlink:href=\"#DejaVuSans-100\"/>\r\n       <use x=\"1174.292969\" xlink:href=\"#DejaVuSans-116\"/>\r\n      </g>\r\n     </g>\r\n    </g>\r\n    <g id=\"ytick_3\">\r\n     <g id=\"line2d_11\">\r\n      <path clip-path=\"url(#p7348bc71ee)\" d=\"M 212.37 183.378741 \r\nL 393.23378 183.378741 \r\n\" style=\"fill:none;stroke:#cbcbcb;\"/>\r\n     </g>\r\n     <g id=\"line2d_12\"/>\r\n     <g id=\"text_6\">\r\n      <!-- Fritsch, Russel and Anderson -->\r\n      <g transform=\"translate(7.2 188.697648)scale(0.14 -0.14)\">\r\n       <defs>\r\n        <path d=\"M 44.390625 34.1875 \r\nQ 47.5625 33.109375 50.5625 29.59375 \r\nQ 53.5625 26.078125 56.59375 19.921875 \r\nL 66.609375 0 \r\nL 56 0 \r\nL 46.6875 18.703125 \r\nQ 43.0625 26.03125 39.671875 28.421875 \r\nQ 36.28125 30.8125 30.421875 30.8125 \r\nL 19.671875 30.8125 \r\nL 19.671875 0 \r\nL 9.8125 0 \r\nL 9.8125 72.90625 \r\nL 32.078125 72.90625 \r\nQ 44.578125 72.90625 50.734375 67.671875 \r\nQ 56.890625 62.453125 56.890625 51.90625 \r\nQ 56.890625 45.015625 53.6875 40.46875 \r\nQ 50.484375 35.9375 44.390625 34.1875 \r\nz\r\nM 19.671875 64.796875 \r\nL 19.671875 38.921875 \r\nL 32.078125 38.921875 \r\nQ 39.203125 38.921875 42.84375 42.21875 \r\nQ 46.484375 45.515625 46.484375 51.90625 \r\nQ 46.484375 58.296875 42.84375 61.546875 \r\nQ 39.203125 64.796875 32.078125 64.796875 \r\nz\r\n\" id=\"DejaVuSans-82\"/>\r\n        <path d=\"M 8.5 21.578125 \r\nL 8.5 54.6875 \r\nL 17.484375 54.6875 \r\nL 17.484375 21.921875 \r\nQ 17.484375 14.15625 20.5 10.265625 \r\nQ 23.53125 6.390625 29.59375 6.390625 \r\nQ 36.859375 6.390625 41.078125 11.03125 \r\nQ 45.3125 15.671875 45.3125 23.6875 \r\nL 45.3125 54.6875 \r\nL 54.296875 54.6875 \r\nL 54.296875 0 \r\nL 45.3125 0 \r\nL 45.3125 8.40625 \r\nQ 42.046875 3.421875 37.71875 1 \r\nQ 33.40625 -1.421875 27.6875 -1.421875 \r\nQ 18.265625 -1.421875 13.375 4.4375 \r\nQ 8.5 10.296875 8.5 21.578125 \r\nz\r\nM 31.109375 56 \r\nz\r\n\" id=\"DejaVuSans-117\"/>\r\n        <path d=\"M 56.203125 29.59375 \r\nL 56.203125 25.203125 \r\nL 14.890625 25.203125 \r\nQ 15.484375 15.921875 20.484375 11.0625 \r\nQ 25.484375 6.203125 34.421875 6.203125 \r\nQ 39.59375 6.203125 44.453125 7.46875 \r\nQ 49.3125 8.734375 54.109375 11.28125 \r\nL 54.109375 2.78125 \r\nQ 49.265625 0.734375 44.1875 -0.34375 \r\nQ 39.109375 -1.421875 33.890625 -1.421875 \r\nQ 20.796875 -1.421875 13.15625 6.1875 \r\nQ 5.515625 13.8125 5.515625 26.8125 \r\nQ 5.515625 40.234375 12.765625 48.109375 \r\nQ 20.015625 56 32.328125 56 \r\nQ 43.359375 56 49.78125 48.890625 \r\nQ 56.203125 41.796875 56.203125 29.59375 \r\nz\r\nM 47.21875 32.234375 \r\nQ 47.125 39.59375 43.09375 43.984375 \r\nQ 39.0625 48.390625 32.421875 48.390625 \r\nQ 24.90625 48.390625 20.390625 44.140625 \r\nQ 15.875 39.890625 15.1875 32.171875 \r\nz\r\n\" id=\"DejaVuSans-101\"/>\r\n        <path d=\"M 34.1875 63.1875 \r\nL 20.796875 26.90625 \r\nL 47.609375 26.90625 \r\nz\r\nM 28.609375 72.90625 \r\nL 39.796875 72.90625 \r\nL 67.578125 0 \r\nL 57.328125 0 \r\nL 50.6875 18.703125 \r\nL 17.828125 18.703125 \r\nL 11.1875 0 \r\nL 0.78125 0 \r\nz\r\n\" id=\"DejaVuSans-65\"/>\r\n       </defs>\r\n       <use xlink:href=\"#DejaVuSans-70\"/>\r\n       <use x=\"50.269531\" xlink:href=\"#DejaVuSans-114\"/>\r\n       <use x=\"91.382812\" xlink:href=\"#DejaVuSans-105\"/>\r\n       <use x=\"119.166016\" xlink:href=\"#DejaVuSans-116\"/>\r\n       <use x=\"158.375\" xlink:href=\"#DejaVuSans-115\"/>\r\n       <use x=\"210.474609\" xlink:href=\"#DejaVuSans-99\"/>\r\n       <use x=\"265.455078\" xlink:href=\"#DejaVuSans-104\"/>\r\n       <use x=\"328.833984\" xlink:href=\"#DejaVuSans-44\"/>\r\n       <use x=\"360.621094\" xlink:href=\"#DejaVuSans-32\"/>\r\n       <use x=\"392.408203\" xlink:href=\"#DejaVuSans-82\"/>\r\n       <use x=\"457.390625\" xlink:href=\"#DejaVuSans-117\"/>\r\n       <use x=\"520.769531\" xlink:href=\"#DejaVuSans-115\"/>\r\n       <use x=\"572.869141\" xlink:href=\"#DejaVuSans-115\"/>\r\n       <use x=\"624.96875\" xlink:href=\"#DejaVuSans-101\"/>\r\n       <use x=\"686.492188\" xlink:href=\"#DejaVuSans-108\"/>\r\n       <use x=\"714.275391\" xlink:href=\"#DejaVuSans-32\"/>\r\n       <use x=\"746.0625\" xlink:href=\"#DejaVuSans-97\"/>\r\n       <use x=\"807.341797\" xlink:href=\"#DejaVuSans-110\"/>\r\n       <use x=\"870.720703\" xlink:href=\"#DejaVuSans-100\"/>\r\n       <use x=\"934.197266\" xlink:href=\"#DejaVuSans-32\"/>\r\n       <use x=\"965.984375\" xlink:href=\"#DejaVuSans-65\"/>\r\n       <use x=\"1034.392578\" xlink:href=\"#DejaVuSans-110\"/>\r\n       <use x=\"1097.771484\" xlink:href=\"#DejaVuSans-100\"/>\r\n       <use x=\"1161.248047\" xlink:href=\"#DejaVuSans-101\"/>\r\n       <use x=\"1222.771484\" xlink:href=\"#DejaVuSans-114\"/>\r\n       <use x=\"1263.884766\" xlink:href=\"#DejaVuSans-115\"/>\r\n       <use x=\"1315.984375\" xlink:href=\"#DejaVuSans-111\"/>\r\n       <use x=\"1377.166016\" xlink:href=\"#DejaVuSans-110\"/>\r\n      </g>\r\n     </g>\r\n    </g>\r\n    <g id=\"ytick_4\">\r\n     <g id=\"line2d_13\">\r\n      <path clip-path=\"url(#p7348bc71ee)\" d=\"M 212.37 161.04937 \r\nL 393.23378 161.04937 \r\n\" style=\"fill:none;stroke:#cbcbcb;\"/>\r\n     </g>\r\n     <g id=\"line2d_14\"/>\r\n     <g id=\"text_7\">\r\n      <!-- Jerde-Hilpert -->\r\n      <g transform=\"translate(121.009062 166.368276)scale(0.14 -0.14)\">\r\n       <defs>\r\n        <path d=\"M 9.8125 72.90625 \r\nL 19.671875 72.90625 \r\nL 19.671875 5.078125 \r\nQ 19.671875 -8.109375 14.671875 -14.0625 \r\nQ 9.671875 -20.015625 -1.421875 -20.015625 \r\nL -5.171875 -20.015625 \r\nL -5.171875 -11.71875 \r\nL -2.09375 -11.71875 \r\nQ 4.4375 -11.71875 7.125 -8.046875 \r\nQ 9.8125 -4.390625 9.8125 5.078125 \r\nz\r\n\" id=\"DejaVuSans-74\"/>\r\n        <path d=\"M 4.890625 31.390625 \r\nL 31.203125 31.390625 \r\nL 31.203125 23.390625 \r\nL 4.890625 23.390625 \r\nz\r\n\" id=\"DejaVuSans-45\"/>\r\n        <path d=\"M 18.109375 8.203125 \r\nL 18.109375 -20.796875 \r\nL 9.078125 -20.796875 \r\nL 9.078125 54.6875 \r\nL 18.109375 54.6875 \r\nL 18.109375 46.390625 \r\nQ 20.953125 51.265625 25.265625 53.625 \r\nQ 29.59375 56 35.59375 56 \r\nQ 45.5625 56 51.78125 48.09375 \r\nQ 58.015625 40.1875 58.015625 27.296875 \r\nQ 58.015625 14.40625 51.78125 6.484375 \r\nQ 45.5625 -1.421875 35.59375 -1.421875 \r\nQ 29.59375 -1.421875 25.265625 0.953125 \r\nQ 20.953125 3.328125 18.109375 8.203125 \r\nz\r\nM 48.6875 27.296875 \r\nQ 48.6875 37.203125 44.609375 42.84375 \r\nQ 40.53125 48.484375 33.40625 48.484375 \r\nQ 26.265625 48.484375 22.1875 42.84375 \r\nQ 18.109375 37.203125 18.109375 27.296875 \r\nQ 18.109375 17.390625 22.1875 11.75 \r\nQ 26.265625 6.109375 33.40625 6.109375 \r\nQ 40.53125 6.109375 44.609375 11.75 \r\nQ 48.6875 17.390625 48.6875 27.296875 \r\nz\r\n\" id=\"DejaVuSans-112\"/>\r\n       </defs>\r\n       <use xlink:href=\"#DejaVuSans-74\"/>\r\n       <use x=\"29.492188\" xlink:href=\"#DejaVuSans-101\"/>\r\n       <use x=\"91.015625\" xlink:href=\"#DejaVuSans-114\"/>\r\n       <use x=\"130.378906\" xlink:href=\"#DejaVuSans-100\"/>\r\n       <use x=\"193.855469\" xlink:href=\"#DejaVuSans-101\"/>\r\n       <use x=\"255.378906\" xlink:href=\"#DejaVuSans-45\"/>\r\n       <use x=\"291.462891\" xlink:href=\"#DejaVuSans-72\"/>\r\n       <use x=\"366.658203\" xlink:href=\"#DejaVuSans-105\"/>\r\n       <use x=\"394.441406\" xlink:href=\"#DejaVuSans-108\"/>\r\n       <use x=\"422.224609\" xlink:href=\"#DejaVuSans-112\"/>\r\n       <use x=\"485.701172\" xlink:href=\"#DejaVuSans-101\"/>\r\n       <use x=\"547.224609\" xlink:href=\"#DejaVuSans-114\"/>\r\n       <use x=\"588.337891\" xlink:href=\"#DejaVuSans-116\"/>\r\n      </g>\r\n     </g>\r\n    </g>\r\n    <g id=\"ytick_5\">\r\n     <g id=\"line2d_15\">\r\n      <path clip-path=\"url(#p7348bc71ee)\" d=\"M 212.37 138.719998 \r\nL 393.23378 138.719998 \r\n\" style=\"fill:none;stroke:#cbcbcb;\"/>\r\n     </g>\r\n     <g id=\"line2d_16\"/>\r\n     <g id=\"text_8\">\r\n      <!-- Keeling LLC -->\r\n      <g transform=\"translate(127.794687 144.038905)scale(0.14 -0.14)\">\r\n       <defs>\r\n        <path d=\"M 9.8125 72.90625 \r\nL 19.671875 72.90625 \r\nL 19.671875 42.09375 \r\nL 52.390625 72.90625 \r\nL 65.09375 72.90625 \r\nL 28.90625 38.921875 \r\nL 67.671875 0 \r\nL 54.6875 0 \r\nL 19.671875 35.109375 \r\nL 19.671875 0 \r\nL 9.8125 0 \r\nz\r\n\" id=\"DejaVuSans-75\"/>\r\n        <path d=\"M 45.40625 27.984375 \r\nQ 45.40625 37.75 41.375 43.109375 \r\nQ 37.359375 48.484375 30.078125 48.484375 \r\nQ 22.859375 48.484375 18.828125 43.109375 \r\nQ 14.796875 37.75 14.796875 27.984375 \r\nQ 14.796875 18.265625 18.828125 12.890625 \r\nQ 22.859375 7.515625 30.078125 7.515625 \r\nQ 37.359375 7.515625 41.375 12.890625 \r\nQ 45.40625 18.265625 45.40625 27.984375 \r\nz\r\nM 54.390625 6.78125 \r\nQ 54.390625 -7.171875 48.1875 -13.984375 \r\nQ 42 -20.796875 29.203125 -20.796875 \r\nQ 24.46875 -20.796875 20.265625 -20.09375 \r\nQ 16.0625 -19.390625 12.109375 -17.921875 \r\nL 12.109375 -9.1875 \r\nQ 16.0625 -11.328125 19.921875 -12.34375 \r\nQ 23.78125 -13.375 27.78125 -13.375 \r\nQ 36.625 -13.375 41.015625 -8.765625 \r\nQ 45.40625 -4.15625 45.40625 5.171875 \r\nL 45.40625 9.625 \r\nQ 42.625 4.78125 38.28125 2.390625 \r\nQ 33.9375 0 27.875 0 \r\nQ 17.828125 0 11.671875 7.65625 \r\nQ 5.515625 15.328125 5.515625 27.984375 \r\nQ 5.515625 40.671875 11.671875 48.328125 \r\nQ 17.828125 56 27.875 56 \r\nQ 33.9375 56 38.28125 53.609375 \r\nQ 42.625 51.21875 45.40625 46.390625 \r\nL 45.40625 54.6875 \r\nL 54.390625 54.6875 \r\nz\r\n\" id=\"DejaVuSans-103\"/>\r\n       </defs>\r\n       <use xlink:href=\"#DejaVuSans-75\"/>\r\n       <use x=\"60.576172\" xlink:href=\"#DejaVuSans-101\"/>\r\n       <use x=\"122.099609\" xlink:href=\"#DejaVuSans-101\"/>\r\n       <use x=\"183.623047\" xlink:href=\"#DejaVuSans-108\"/>\r\n       <use x=\"211.40625\" xlink:href=\"#DejaVuSans-105\"/>\r\n       <use x=\"239.189453\" xlink:href=\"#DejaVuSans-110\"/>\r\n       <use x=\"302.568359\" xlink:href=\"#DejaVuSans-103\"/>\r\n       <use x=\"366.044922\" xlink:href=\"#DejaVuSans-32\"/>\r\n       <use x=\"397.832031\" xlink:href=\"#DejaVuSans-76\"/>\r\n       <use x=\"453.544922\" xlink:href=\"#DejaVuSans-76\"/>\r\n       <use x=\"509.257812\" xlink:href=\"#DejaVuSans-67\"/>\r\n      </g>\r\n     </g>\r\n    </g>\r\n    <g id=\"ytick_6\">\r\n     <g id=\"line2d_17\">\r\n      <path clip-path=\"url(#p7348bc71ee)\" d=\"M 212.37 116.390627 \r\nL 393.23378 116.390627 \r\n\" style=\"fill:none;stroke:#cbcbcb;\"/>\r\n     </g>\r\n     <g id=\"line2d_18\"/>\r\n     <g id=\"text_9\">\r\n      <!-- Koepp Ltd -->\r\n      <g transform=\"translate(138.806562 121.709533)scale(0.14 -0.14)\">\r\n       <use xlink:href=\"#DejaVuSans-75\"/>\r\n       <use x=\"60.576172\" xlink:href=\"#DejaVuSans-111\"/>\r\n       <use x=\"121.757812\" xlink:href=\"#DejaVuSans-101\"/>\r\n       <use x=\"183.28125\" xlink:href=\"#DejaVuSans-112\"/>\r\n       <use x=\"246.757812\" xlink:href=\"#DejaVuSans-112\"/>\r\n       <use x=\"310.234375\" xlink:href=\"#DejaVuSans-32\"/>\r\n       <use x=\"342.021484\" xlink:href=\"#DejaVuSans-76\"/>\r\n       <use x=\"397.734375\" xlink:href=\"#DejaVuSans-116\"/>\r\n       <use x=\"436.943359\" xlink:href=\"#DejaVuSans-100\"/>\r\n      </g>\r\n     </g>\r\n    </g>\r\n    <g id=\"ytick_7\">\r\n     <g id=\"line2d_19\">\r\n      <path clip-path=\"url(#p7348bc71ee)\" d=\"M 212.37 94.061255 \r\nL 393.23378 94.061255 \r\n\" style=\"fill:none;stroke:#cbcbcb;\"/>\r\n     </g>\r\n     <g id=\"line2d_20\"/>\r\n     <g id=\"text_10\">\r\n      <!-- Kulas Inc -->\r\n      <g transform=\"translate(146.605 99.380161)scale(0.14 -0.14)\">\r\n       <defs>\r\n        <path d=\"M 9.8125 72.90625 \r\nL 19.671875 72.90625 \r\nL 19.671875 0 \r\nL 9.8125 0 \r\nz\r\n\" id=\"DejaVuSans-73\"/>\r\n       </defs>\r\n       <use xlink:href=\"#DejaVuSans-75\"/>\r\n       <use x=\"60.576172\" xlink:href=\"#DejaVuSans-117\"/>\r\n       <use x=\"123.955078\" xlink:href=\"#DejaVuSans-108\"/>\r\n       <use x=\"151.738281\" xlink:href=\"#DejaVuSans-97\"/>\r\n       <use x=\"213.017578\" xlink:href=\"#DejaVuSans-115\"/>\r\n       <use x=\"265.117188\" xlink:href=\"#DejaVuSans-32\"/>\r\n       <use x=\"296.904297\" xlink:href=\"#DejaVuSans-73\"/>\r\n       <use x=\"326.396484\" xlink:href=\"#DejaVuSans-110\"/>\r\n       <use x=\"389.775391\" xlink:href=\"#DejaVuSans-99\"/>\r\n      </g>\r\n     </g>\r\n    </g>\r\n    <g id=\"ytick_8\">\r\n     <g id=\"line2d_21\">\r\n      <path clip-path=\"url(#p7348bc71ee)\" d=\"M 212.37 71.731884 \r\nL 393.23378 71.731884 \r\n\" style=\"fill:none;stroke:#cbcbcb;\"/>\r\n     </g>\r\n     <g id=\"line2d_22\"/>\r\n     <g id=\"text_11\">\r\n      <!-- Trantow-Barrows -->\r\n      <g transform=\"translate(92.685312 77.05079)scale(0.14 -0.14)\">\r\n       <defs>\r\n        <path d=\"M -0.296875 72.90625 \r\nL 61.375 72.90625 \r\nL 61.375 64.59375 \r\nL 35.5 64.59375 \r\nL 35.5 0 \r\nL 25.59375 0 \r\nL 25.59375 64.59375 \r\nL -0.296875 64.59375 \r\nz\r\n\" id=\"DejaVuSans-84\"/>\r\n        <path d=\"M 4.203125 54.6875 \r\nL 13.1875 54.6875 \r\nL 24.421875 12.015625 \r\nL 35.59375 54.6875 \r\nL 46.1875 54.6875 \r\nL 57.421875 12.015625 \r\nL 68.609375 54.6875 \r\nL 77.59375 54.6875 \r\nL 63.28125 0 \r\nL 52.6875 0 \r\nL 40.921875 44.828125 \r\nL 29.109375 0 \r\nL 18.5 0 \r\nz\r\n\" id=\"DejaVuSans-119\"/>\r\n       </defs>\r\n       <use xlink:href=\"#DejaVuSans-84\"/>\r\n       <use x=\"46.333984\" xlink:href=\"#DejaVuSans-114\"/>\r\n       <use x=\"87.447266\" xlink:href=\"#DejaVuSans-97\"/>\r\n       <use x=\"148.726562\" xlink:href=\"#DejaVuSans-110\"/>\r\n       <use x=\"212.105469\" xlink:href=\"#DejaVuSans-116\"/>\r\n       <use x=\"251.314453\" xlink:href=\"#DejaVuSans-111\"/>\r\n       <use x=\"312.496094\" xlink:href=\"#DejaVuSans-119\"/>\r\n       <use x=\"394.283203\" xlink:href=\"#DejaVuSans-45\"/>\r\n       <use x=\"426.742188\" xlink:href=\"#DejaVuSans-66\"/>\r\n       <use x=\"495.345703\" xlink:href=\"#DejaVuSans-97\"/>\r\n       <use x=\"556.625\" xlink:href=\"#DejaVuSans-114\"/>\r\n       <use x=\"595.988281\" xlink:href=\"#DejaVuSans-114\"/>\r\n       <use x=\"634.851562\" xlink:href=\"#DejaVuSans-111\"/>\r\n       <use x=\"696.033203\" xlink:href=\"#DejaVuSans-119\"/>\r\n       <use x=\"777.820312\" xlink:href=\"#DejaVuSans-115\"/>\r\n      </g>\r\n     </g>\r\n    </g>\r\n    <g id=\"ytick_9\">\r\n     <g id=\"line2d_23\">\r\n      <path clip-path=\"url(#p7348bc71ee)\" d=\"M 212.37 49.402512 \r\nL 393.23378 49.402512 \r\n\" style=\"fill:none;stroke:#cbcbcb;\"/>\r\n     </g>\r\n     <g id=\"line2d_24\"/>\r\n     <g id=\"text_12\">\r\n      <!-- White-Trantow -->\r\n      <g transform=\"translate(109.192187 54.721418)scale(0.14 -0.14)\">\r\n       <defs>\r\n        <path d=\"M 3.328125 72.90625 \r\nL 13.28125 72.90625 \r\nL 28.609375 11.28125 \r\nL 43.890625 72.90625 \r\nL 54.984375 72.90625 \r\nL 70.3125 11.28125 \r\nL 85.59375 72.90625 \r\nL 95.609375 72.90625 \r\nL 77.296875 0 \r\nL 64.890625 0 \r\nL 49.515625 63.28125 \r\nL 33.984375 0 \r\nL 21.578125 0 \r\nz\r\n\" id=\"DejaVuSans-87\"/>\r\n       </defs>\r\n       <use xlink:href=\"#DejaVuSans-87\"/>\r\n       <use x=\"98.876953\" xlink:href=\"#DejaVuSans-104\"/>\r\n       <use x=\"162.255859\" xlink:href=\"#DejaVuSans-105\"/>\r\n       <use x=\"190.039062\" xlink:href=\"#DejaVuSans-116\"/>\r\n       <use x=\"229.248047\" xlink:href=\"#DejaVuSans-101\"/>\r\n       <use x=\"290.771484\" xlink:href=\"#DejaVuSans-45\"/>\r\n       <use x=\"317.730469\" xlink:href=\"#DejaVuSans-84\"/>\r\n       <use x=\"364.064453\" xlink:href=\"#DejaVuSans-114\"/>\r\n       <use x=\"405.177734\" xlink:href=\"#DejaVuSans-97\"/>\r\n       <use x=\"466.457031\" xlink:href=\"#DejaVuSans-110\"/>\r\n       <use x=\"529.835938\" xlink:href=\"#DejaVuSans-116\"/>\r\n       <use x=\"569.044922\" xlink:href=\"#DejaVuSans-111\"/>\r\n       <use x=\"630.226562\" xlink:href=\"#DejaVuSans-119\"/>\r\n      </g>\r\n     </g>\r\n    </g>\r\n    <g id=\"ytick_10\">\r\n     <g id=\"line2d_25\">\r\n      <path clip-path=\"url(#p7348bc71ee)\" d=\"M 212.37 27.073141 \r\nL 393.23378 27.073141 \r\n\" style=\"fill:none;stroke:#cbcbcb;\"/>\r\n     </g>\r\n     <g id=\"line2d_26\"/>\r\n     <g id=\"text_13\">\r\n      <!-- Will LLC -->\r\n      <g transform=\"translate(153.847813 32.392047)scale(0.14 -0.14)\">\r\n       <use xlink:href=\"#DejaVuSans-87\"/>\r\n       <use x=\"96.626953\" xlink:href=\"#DejaVuSans-105\"/>\r\n       <use x=\"124.410156\" xlink:href=\"#DejaVuSans-108\"/>\r\n       <use x=\"152.193359\" xlink:href=\"#DejaVuSans-108\"/>\r\n       <use x=\"179.976562\" xlink:href=\"#DejaVuSans-32\"/>\r\n       <use x=\"211.763672\" xlink:href=\"#DejaVuSans-76\"/>\r\n       <use x=\"267.476562\" xlink:href=\"#DejaVuSans-76\"/>\r\n       <use x=\"323.189453\" xlink:href=\"#DejaVuSans-67\"/>\r\n      </g>\r\n     </g>\r\n    </g>\r\n   </g>\r\n   <g id=\"patch_3\">\r\n    <path clip-path=\"url(#p7348bc71ee)\" d=\"M 212.37 236.969233 \r\nL 349.61533 236.969233 \r\nL 349.61533 219.105736 \r\nL 212.37 219.105736 \r\nz\r\n\" style=\"fill:#008fd5;\"/>\r\n   </g>\r\n   <g id=\"patch_4\">\r\n    <path clip-path=\"url(#p7348bc71ee)\" d=\"M 212.37 214.639861 \r\nL 342.25521 214.639861 \r\nL 342.25521 196.776364 \r\nL 212.37 196.776364 \r\nz\r\n\" style=\"fill:#008fd5;\"/>\r\n   </g>\r\n   <g id=\"patch_5\">\r\n    <path clip-path=\"url(#p7348bc71ee)\" d=\"M 212.37 192.31049 \r\nL 353.096937 192.31049 \r\nL 353.096937 174.446993 \r\nL 212.37 174.446993 \r\nz\r\n\" style=\"fill:#008fd5;\"/>\r\n   </g>\r\n   <g id=\"patch_6\">\r\n    <path clip-path=\"url(#p7348bc71ee)\" d=\"M 212.37 169.981118 \r\nL 353.569376 169.981118 \r\nL 353.569376 152.117621 \r\nL 212.37 152.117621 \r\nz\r\n\" style=\"fill:#008fd5;\"/>\r\n   </g>\r\n   <g id=\"patch_7\">\r\n    <path clip-path=\"url(#p7348bc71ee)\" d=\"M 212.37 147.651747 \r\nL 338.950329 147.651747 \r\nL 338.950329 129.78825 \r\nL 212.37 129.78825 \r\nz\r\n\" style=\"fill:#008fd5;\"/>\r\n   </g>\r\n   <g id=\"patch_8\">\r\n    <path clip-path=\"url(#p7348bc71ee)\" d=\"M 212.37 125.322375 \r\nL 342.369269 125.322375 \r\nL 342.369269 107.458878 \r\nL 212.37 107.458878 \r\nz\r\n\" style=\"fill:#008fd5;\"/>\r\n   </g>\r\n   <g id=\"patch_9\">\r\n    <path clip-path=\"url(#p7348bc71ee)\" d=\"M 212.37 102.993004 \r\nL 384.621219 102.993004 \r\nL 384.621219 85.129507 \r\nL 212.37 85.129507 \r\nz\r\n\" style=\"fill:#008fd5;\"/>\r\n   </g>\r\n   <g id=\"patch_10\">\r\n    <path clip-path=\"url(#p7348bc71ee)\" d=\"M 212.37 80.663632 \r\nL 367.100906 80.663632 \r\nL 367.100906 62.800135 \r\nL 212.37 62.800135 \r\nz\r\n\" style=\"fill:#008fd5;\"/>\r\n   </g>\r\n   <g id=\"patch_11\">\r\n    <path clip-path=\"url(#p7348bc71ee)\" d=\"M 212.37 58.334261 \r\nL 382.727587 58.334261 \r\nL 382.727587 40.470764 \r\nL 212.37 40.470764 \r\nz\r\n\" style=\"fill:#008fd5;\"/>\r\n   </g>\r\n   <g id=\"patch_12\">\r\n    <path clip-path=\"url(#p7348bc71ee)\" d=\"M 212.37 36.004889 \r\nL 343.343769 36.004889 \r\nL 343.343769 18.141392 \r\nL 212.37 18.141392 \r\nz\r\n\" style=\"fill:#008fd5;\"/>\r\n   </g>\r\n   <g id=\"patch_13\">\r\n    <path d=\"M 212.37 247.910625 \r\nL 212.37 7.2 \r\n\" style=\"fill:none;stroke:#f0f0f0;stroke-linecap:square;stroke-linejoin:miter;stroke-width:3;\"/>\r\n   </g>\r\n   <g id=\"patch_14\">\r\n    <path d=\"M 393.23378 247.910625 \r\nL 393.23378 7.2 \r\n\" style=\"fill:none;stroke:#f0f0f0;stroke-linecap:square;stroke-linejoin:miter;stroke-width:3;\"/>\r\n   </g>\r\n   <g id=\"patch_15\">\r\n    <path d=\"M 212.37 247.910625 \r\nL 393.23378 247.910625 \r\n\" style=\"fill:none;stroke:#f0f0f0;stroke-linecap:square;stroke-linejoin:miter;stroke-width:3;\"/>\r\n   </g>\r\n   <g id=\"patch_16\">\r\n    <path d=\"M 212.37 7.2 \r\nL 393.23378 7.2 \r\n\" style=\"fill:none;stroke:#f0f0f0;stroke-linecap:square;stroke-linejoin:miter;stroke-width:3;\"/>\r\n   </g>\r\n  </g>\r\n </g>\r\n <defs>\r\n  <clipPath id=\"p7348bc71ee\">\r\n   <rect height=\"240.710625\" width=\"180.86378\" x=\"212.37\" y=\"7.2\"/>\r\n  </clipPath>\r\n </defs>\r\n</svg>\r\n",
      "image/png": "[encoded data removed]"
     },
     "metadata": {}
    }
   ],
   "source": [
    "plt.style.use('fivethirtyeight')\n",
    "fig, ax = plt.subplots()\n",
    "ax.barh(group_names, group_data)\n",
    "#ax.bar(group_names, group_data)\n",
    "\n",
    "labels = ax.get_xticklabels()\n"
   ]
  },
  {
   "cell_type": "code",
   "execution_count": 62,
   "metadata": {},
   "outputs": [
    {
     "output_type": "execute_result",
     "data": {
      "text/plain": [
       "<Signature (nrows=1, ncols=1, *, sharex=False, sharey=False, squeeze=True, subplot_kw=None, gridspec_kw=None, **fig_kw)>"
      ]
     },
     "metadata": {},
     "execution_count": 62
    }
   ],
   "source": [
    "import inspect\n",
    "\n",
    "inspect.signature(plt.subplots)"
   ]
  },
  {
   "cell_type": "code",
   "execution_count": 63,
   "metadata": {},
   "outputs": [
    {
     "output_type": "execute_result",
     "data": {
      "text/plain": [
       "<BarContainer object of 10 artists>"
      ]
     },
     "metadata": {},
     "execution_count": 63
    },
    {
     "output_type": "display_data",
     "data": {
      "text/plain": "<Figure size 432x288 with 1 Axes>",
      "image/svg+xml": "<?xml version=\"1.0\" encoding=\"utf-8\" standalone=\"no\"?>\r\n<!DOCTYPE svg PUBLIC \"-//W3C//DTD SVG 1.1//EN\"\r\n  \"http://www.w3.org/Graphics/SVG/1.1/DTD/svg11.dtd\">\r\n<!-- Created with matplotlib (https://matplotlib.org/) -->\r\n<svg height=\"272.16pt\" version=\"1.1\" viewBox=\"0 0 400.43378 272.16\" width=\"400.43378pt\" xmlns=\"http://www.w3.org/2000/svg\" xmlns:xlink=\"http://www.w3.org/1999/xlink\">\r\n <metadata>\r\n  <rdf:RDF xmlns:cc=\"http://creativecommons.org/ns#\" xmlns:dc=\"http://purl.org/dc/elements/1.1/\" xmlns:rdf=\"http://www.w3.org/1999/02/22-rdf-syntax-ns#\">\r\n   <cc:Work>\r\n    <dc:type rdf:resource=\"http://purl.org/dc/dcmitype/StillImage\"/>\r\n    <dc:date>2021-03-08T23:06:29.977412</dc:date>\r\n    <dc:format>image/svg+xml</dc:format>\r\n    <dc:creator>\r\n     <cc:Agent>\r\n      <dc:title>Matplotlib v3.3.2, https://matplotlib.org/</dc:title>\r\n     </cc:Agent>\r\n    </dc:creator>\r\n   </cc:Work>\r\n  </rdf:RDF>\r\n </metadata>\r\n <defs>\r\n  <style type=\"text/css\">*{stroke-linecap:butt;stroke-linejoin:round;}</style>\r\n </defs>\r\n <g id=\"figure_1\">\r\n  <g id=\"patch_1\">\r\n   <path d=\"M -0 272.16 \r\nL 400.43378 272.16 \r\nL 400.43378 0 \r\nL -0 0 \r\nz\r\n\" style=\"fill:#bfbfbf;\"/>\r\n  </g>\r\n  <g id=\"axes_1\">\r\n   <g id=\"patch_2\">\r\n    <path d=\"M 212.37 247.910625 \r\nL 393.23378 247.910625 \r\nL 393.23378 7.2 \r\nL 212.37 7.2 \r\nz\r\n\" style=\"fill:#ffffff;\"/>\r\n   </g>\r\n   <g id=\"matplotlib.axis_1\">\r\n    <g id=\"xtick_1\">\r\n     <g id=\"line2d_1\">\r\n      <path clip-path=\"url(#pa48bcf517a)\" d=\"M 212.37 247.910625 \r\nL 212.37 7.2 \r\n\" style=\"fill:none;stroke:#000000;\"/>\r\n     </g>\r\n     <g id=\"line2d_2\"/>\r\n     <g id=\"text_1\">\r\n      <!-- 0 -->\r\n      <g transform=\"translate(207.91625 262.048437)scale(0.14 -0.14)\">\r\n       <defs>\r\n        <path d=\"M 31.78125 66.40625 \r\nQ 24.171875 66.40625 20.328125 58.90625 \r\nQ 16.5 51.421875 16.5 36.375 \r\nQ 16.5 21.390625 20.328125 13.890625 \r\nQ 24.171875 6.390625 31.78125 6.390625 \r\nQ 39.453125 6.390625 43.28125 13.890625 \r\nQ 47.125 21.390625 47.125 36.375 \r\nQ 47.125 51.421875 43.28125 58.90625 \r\nQ 39.453125 66.40625 31.78125 66.40625 \r\nz\r\nM 31.78125 74.21875 \r\nQ 44.046875 74.21875 50.515625 64.515625 \r\nQ 56.984375 54.828125 56.984375 36.375 \r\nQ 56.984375 17.96875 50.515625 8.265625 \r\nQ 44.046875 -1.421875 31.78125 -1.421875 \r\nQ 19.53125 -1.421875 13.0625 8.265625 \r\nQ 6.59375 17.96875 6.59375 36.375 \r\nQ 6.59375 54.828125 13.0625 64.515625 \r\nQ 19.53125 74.21875 31.78125 74.21875 \r\nz\r\n\" id=\"DejaVuSans-48\"/>\r\n       </defs>\r\n       <use xlink:href=\"#DejaVuSans-48\"/>\r\n      </g>\r\n     </g>\r\n    </g>\r\n    <g id=\"xtick_2\">\r\n     <g id=\"line2d_3\">\r\n      <path clip-path=\"url(#pa48bcf517a)\" d=\"M 275.074318 247.910625 \r\nL 275.074318 7.2 \r\n\" style=\"fill:none;stroke:#000000;\"/>\r\n     </g>\r\n     <g id=\"line2d_4\"/>\r\n     <g id=\"text_2\">\r\n      <!-- 50000 -->\r\n      <g transform=\"translate(252.805568 262.048437)scale(0.14 -0.14)\">\r\n       <defs>\r\n        <path d=\"M 10.796875 72.90625 \r\nL 49.515625 72.90625 \r\nL 49.515625 64.59375 \r\nL 19.828125 64.59375 \r\nL 19.828125 46.734375 \r\nQ 21.96875 47.46875 24.109375 47.828125 \r\nQ 26.265625 48.1875 28.421875 48.1875 \r\nQ 40.625 48.1875 47.75 41.5 \r\nQ 54.890625 34.8125 54.890625 23.390625 \r\nQ 54.890625 11.625 47.5625 5.09375 \r\nQ 40.234375 -1.421875 26.90625 -1.421875 \r\nQ 22.3125 -1.421875 17.546875 -0.640625 \r\nQ 12.796875 0.140625 7.71875 1.703125 \r\nL 7.71875 11.625 \r\nQ 12.109375 9.234375 16.796875 8.0625 \r\nQ 21.484375 6.890625 26.703125 6.890625 \r\nQ 35.15625 6.890625 40.078125 11.328125 \r\nQ 45.015625 15.765625 45.015625 23.390625 \r\nQ 45.015625 31 40.078125 35.4375 \r\nQ 35.15625 39.890625 26.703125 39.890625 \r\nQ 22.75 39.890625 18.8125 39.015625 \r\nQ 14.890625 38.140625 10.796875 36.28125 \r\nz\r\n\" id=\"DejaVuSans-53\"/>\r\n       </defs>\r\n       <use xlink:href=\"#DejaVuSans-53\"/>\r\n       <use x=\"63.623047\" xlink:href=\"#DejaVuSans-48\"/>\r\n       <use x=\"127.246094\" xlink:href=\"#DejaVuSans-48\"/>\r\n       <use x=\"190.869141\" xlink:href=\"#DejaVuSans-48\"/>\r\n       <use x=\"254.492188\" xlink:href=\"#DejaVuSans-48\"/>\r\n      </g>\r\n     </g>\r\n    </g>\r\n    <g id=\"xtick_3\">\r\n     <g id=\"line2d_5\">\r\n      <path clip-path=\"url(#pa48bcf517a)\" d=\"M 337.778636 247.910625 \r\nL 337.778636 7.2 \r\n\" style=\"fill:none;stroke:#000000;\"/>\r\n     </g>\r\n     <g id=\"line2d_6\"/>\r\n     <g id=\"text_3\">\r\n      <!-- 100000 -->\r\n      <g transform=\"translate(311.056136 262.048437)scale(0.14 -0.14)\">\r\n       <defs>\r\n        <path d=\"M 12.40625 8.296875 \r\nL 28.515625 8.296875 \r\nL 28.515625 63.921875 \r\nL 10.984375 60.40625 \r\nL 10.984375 69.390625 \r\nL 28.421875 72.90625 \r\nL 38.28125 72.90625 \r\nL 38.28125 8.296875 \r\nL 54.390625 8.296875 \r\nL 54.390625 0 \r\nL 12.40625 0 \r\nz\r\n\" id=\"DejaVuSans-49\"/>\r\n       </defs>\r\n       <use xlink:href=\"#DejaVuSans-49\"/>\r\n       <use x=\"63.623047\" xlink:href=\"#DejaVuSans-48\"/>\r\n       <use x=\"127.246094\" xlink:href=\"#DejaVuSans-48\"/>\r\n       <use x=\"190.869141\" xlink:href=\"#DejaVuSans-48\"/>\r\n       <use x=\"254.492188\" xlink:href=\"#DejaVuSans-48\"/>\r\n       <use x=\"318.115234\" xlink:href=\"#DejaVuSans-48\"/>\r\n      </g>\r\n     </g>\r\n    </g>\r\n   </g>\r\n   <g id=\"matplotlib.axis_2\">\r\n    <g id=\"ytick_1\">\r\n     <g id=\"line2d_7\">\r\n      <path clip-path=\"url(#pa48bcf517a)\" d=\"M 212.37 228.037484 \r\nL 393.23378 228.037484 \r\n\" style=\"fill:none;stroke:#000000;\"/>\r\n     </g>\r\n     <g id=\"line2d_8\"/>\r\n     <g id=\"text_4\">\r\n      <!-- Barton LLC -->\r\n      <g transform=\"translate(132.17625 233.356391)scale(0.14 -0.14)\">\r\n       <defs>\r\n        <path d=\"M 19.671875 34.8125 \r\nL 19.671875 8.109375 \r\nL 35.5 8.109375 \r\nQ 43.453125 8.109375 47.28125 11.40625 \r\nQ 51.125 14.703125 51.125 21.484375 \r\nQ 51.125 28.328125 47.28125 31.5625 \r\nQ 43.453125 34.8125 35.5 34.8125 \r\nz\r\nM 19.671875 64.796875 \r\nL 19.671875 42.828125 \r\nL 34.28125 42.828125 \r\nQ 41.5 42.828125 45.03125 45.53125 \r\nQ 48.578125 48.25 48.578125 53.8125 \r\nQ 48.578125 59.328125 45.03125 62.0625 \r\nQ 41.5 64.796875 34.28125 64.796875 \r\nz\r\nM 9.8125 72.90625 \r\nL 35.015625 72.90625 \r\nQ 46.296875 72.90625 52.390625 68.21875 \r\nQ 58.5 63.53125 58.5 54.890625 \r\nQ 58.5 48.1875 55.375 44.234375 \r\nQ 52.25 40.28125 46.1875 39.3125 \r\nQ 53.46875 37.75 57.5 32.78125 \r\nQ 61.53125 27.828125 61.53125 20.40625 \r\nQ 61.53125 10.640625 54.890625 5.3125 \r\nQ 48.25 0 35.984375 0 \r\nL 9.8125 0 \r\nz\r\n\" id=\"DejaVuSans-66\"/>\r\n        <path d=\"M 34.28125 27.484375 \r\nQ 23.390625 27.484375 19.1875 25 \r\nQ 14.984375 22.515625 14.984375 16.5 \r\nQ 14.984375 11.71875 18.140625 8.90625 \r\nQ 21.296875 6.109375 26.703125 6.109375 \r\nQ 34.1875 6.109375 38.703125 11.40625 \r\nQ 43.21875 16.703125 43.21875 25.484375 \r\nL 43.21875 27.484375 \r\nz\r\nM 52.203125 31.203125 \r\nL 52.203125 0 \r\nL 43.21875 0 \r\nL 43.21875 8.296875 \r\nQ 40.140625 3.328125 35.546875 0.953125 \r\nQ 30.953125 -1.421875 24.3125 -1.421875 \r\nQ 15.921875 -1.421875 10.953125 3.296875 \r\nQ 6 8.015625 6 15.921875 \r\nQ 6 25.140625 12.171875 29.828125 \r\nQ 18.359375 34.515625 30.609375 34.515625 \r\nL 43.21875 34.515625 \r\nL 43.21875 35.40625 \r\nQ 43.21875 41.609375 39.140625 45 \r\nQ 35.0625 48.390625 27.6875 48.390625 \r\nQ 23 48.390625 18.546875 47.265625 \r\nQ 14.109375 46.140625 10.015625 43.890625 \r\nL 10.015625 52.203125 \r\nQ 14.9375 54.109375 19.578125 55.046875 \r\nQ 24.21875 56 28.609375 56 \r\nQ 40.484375 56 46.34375 49.84375 \r\nQ 52.203125 43.703125 52.203125 31.203125 \r\nz\r\n\" id=\"DejaVuSans-97\"/>\r\n        <path d=\"M 41.109375 46.296875 \r\nQ 39.59375 47.171875 37.8125 47.578125 \r\nQ 36.03125 48 33.890625 48 \r\nQ 26.265625 48 22.1875 43.046875 \r\nQ 18.109375 38.09375 18.109375 28.8125 \r\nL 18.109375 0 \r\nL 9.078125 0 \r\nL 9.078125 54.6875 \r\nL 18.109375 54.6875 \r\nL 18.109375 46.1875 \r\nQ 20.953125 51.171875 25.484375 53.578125 \r\nQ 30.03125 56 36.53125 56 \r\nQ 37.453125 56 38.578125 55.875 \r\nQ 39.703125 55.765625 41.0625 55.515625 \r\nz\r\n\" id=\"DejaVuSans-114\"/>\r\n        <path d=\"M 18.3125 70.21875 \r\nL 18.3125 54.6875 \r\nL 36.8125 54.6875 \r\nL 36.8125 47.703125 \r\nL 18.3125 47.703125 \r\nL 18.3125 18.015625 \r\nQ 18.3125 11.328125 20.140625 9.421875 \r\nQ 21.96875 7.515625 27.59375 7.515625 \r\nL 36.8125 7.515625 \r\nL 36.8125 0 \r\nL 27.59375 0 \r\nQ 17.1875 0 13.234375 3.875 \r\nQ 9.28125 7.765625 9.28125 18.015625 \r\nL 9.28125 47.703125 \r\nL 2.6875 47.703125 \r\nL 2.6875 54.6875 \r\nL 9.28125 54.6875 \r\nL 9.28125 70.21875 \r\nz\r\n\" id=\"DejaVuSans-116\"/>\r\n        <path d=\"M 30.609375 48.390625 \r\nQ 23.390625 48.390625 19.1875 42.75 \r\nQ 14.984375 37.109375 14.984375 27.296875 \r\nQ 14.984375 17.484375 19.15625 11.84375 \r\nQ 23.34375 6.203125 30.609375 6.203125 \r\nQ 37.796875 6.203125 41.984375 11.859375 \r\nQ 46.1875 17.53125 46.1875 27.296875 \r\nQ 46.1875 37.015625 41.984375 42.703125 \r\nQ 37.796875 48.390625 30.609375 48.390625 \r\nz\r\nM 30.609375 56 \r\nQ 42.328125 56 49.015625 48.375 \r\nQ 55.71875 40.765625 55.71875 27.296875 \r\nQ 55.71875 13.875 49.015625 6.21875 \r\nQ 42.328125 -1.421875 30.609375 -1.421875 \r\nQ 18.84375 -1.421875 12.171875 6.21875 \r\nQ 5.515625 13.875 5.515625 27.296875 \r\nQ 5.515625 40.765625 12.171875 48.375 \r\nQ 18.84375 56 30.609375 56 \r\nz\r\n\" id=\"DejaVuSans-111\"/>\r\n        <path d=\"M 54.890625 33.015625 \r\nL 54.890625 0 \r\nL 45.90625 0 \r\nL 45.90625 32.71875 \r\nQ 45.90625 40.484375 42.875 44.328125 \r\nQ 39.84375 48.1875 33.796875 48.1875 \r\nQ 26.515625 48.1875 22.3125 43.546875 \r\nQ 18.109375 38.921875 18.109375 30.90625 \r\nL 18.109375 0 \r\nL 9.078125 0 \r\nL 9.078125 54.6875 \r\nL 18.109375 54.6875 \r\nL 18.109375 46.1875 \r\nQ 21.34375 51.125 25.703125 53.5625 \r\nQ 30.078125 56 35.796875 56 \r\nQ 45.21875 56 50.046875 50.171875 \r\nQ 54.890625 44.34375 54.890625 33.015625 \r\nz\r\n\" id=\"DejaVuSans-110\"/>\r\n        <path id=\"DejaVuSans-32\"/>\r\n        <path d=\"M 9.8125 72.90625 \r\nL 19.671875 72.90625 \r\nL 19.671875 8.296875 \r\nL 55.171875 8.296875 \r\nL 55.171875 0 \r\nL 9.8125 0 \r\nz\r\n\" id=\"DejaVuSans-76\"/>\r\n        <path d=\"M 64.40625 67.28125 \r\nL 64.40625 56.890625 \r\nQ 59.421875 61.53125 53.78125 63.8125 \r\nQ 48.140625 66.109375 41.796875 66.109375 \r\nQ 29.296875 66.109375 22.65625 58.46875 \r\nQ 16.015625 50.828125 16.015625 36.375 \r\nQ 16.015625 21.96875 22.65625 14.328125 \r\nQ 29.296875 6.6875 41.796875 6.6875 \r\nQ 48.140625 6.6875 53.78125 8.984375 \r\nQ 59.421875 11.28125 64.40625 15.921875 \r\nL 64.40625 5.609375 \r\nQ 59.234375 2.09375 53.4375 0.328125 \r\nQ 47.65625 -1.421875 41.21875 -1.421875 \r\nQ 24.65625 -1.421875 15.125 8.703125 \r\nQ 5.609375 18.84375 5.609375 36.375 \r\nQ 5.609375 53.953125 15.125 64.078125 \r\nQ 24.65625 74.21875 41.21875 74.21875 \r\nQ 47.75 74.21875 53.53125 72.484375 \r\nQ 59.328125 70.75 64.40625 67.28125 \r\nz\r\n\" id=\"DejaVuSans-67\"/>\r\n       </defs>\r\n       <use xlink:href=\"#DejaVuSans-66\"/>\r\n       <use x=\"68.603516\" xlink:href=\"#DejaVuSans-97\"/>\r\n       <use x=\"129.882812\" xlink:href=\"#DejaVuSans-114\"/>\r\n       <use x=\"170.996094\" xlink:href=\"#DejaVuSans-116\"/>\r\n       <use x=\"210.205078\" xlink:href=\"#DejaVuSans-111\"/>\r\n       <use x=\"271.386719\" xlink:href=\"#DejaVuSans-110\"/>\r\n       <use x=\"334.765625\" xlink:href=\"#DejaVuSans-32\"/>\r\n       <use x=\"366.552734\" xlink:href=\"#DejaVuSans-76\"/>\r\n       <use x=\"422.265625\" xlink:href=\"#DejaVuSans-76\"/>\r\n       <use x=\"477.978516\" xlink:href=\"#DejaVuSans-67\"/>\r\n      </g>\r\n     </g>\r\n    </g>\r\n    <g id=\"ytick_2\">\r\n     <g id=\"line2d_9\">\r\n      <path clip-path=\"url(#pa48bcf517a)\" d=\"M 212.37 205.708113 \r\nL 393.23378 205.708113 \r\n\" style=\"fill:none;stroke:#000000;\"/>\r\n     </g>\r\n     <g id=\"line2d_10\"/>\r\n     <g id=\"text_5\">\r\n      <!-- Frami, Hills and Schmidt -->\r\n      <g transform=\"translate(38.984375 211.027019)scale(0.14 -0.14)\">\r\n       <defs>\r\n        <path d=\"M 9.8125 72.90625 \r\nL 51.703125 72.90625 \r\nL 51.703125 64.59375 \r\nL 19.671875 64.59375 \r\nL 19.671875 43.109375 \r\nL 48.578125 43.109375 \r\nL 48.578125 34.8125 \r\nL 19.671875 34.8125 \r\nL 19.671875 0 \r\nL 9.8125 0 \r\nz\r\n\" id=\"DejaVuSans-70\"/>\r\n        <path d=\"M 52 44.1875 \r\nQ 55.375 50.25 60.0625 53.125 \r\nQ 64.75 56 71.09375 56 \r\nQ 79.640625 56 84.28125 50.015625 \r\nQ 88.921875 44.046875 88.921875 33.015625 \r\nL 88.921875 0 \r\nL 79.890625 0 \r\nL 79.890625 32.71875 \r\nQ 79.890625 40.578125 77.09375 44.375 \r\nQ 74.3125 48.1875 68.609375 48.1875 \r\nQ 61.625 48.1875 57.5625 43.546875 \r\nQ 53.515625 38.921875 53.515625 30.90625 \r\nL 53.515625 0 \r\nL 44.484375 0 \r\nL 44.484375 32.71875 \r\nQ 44.484375 40.625 41.703125 44.40625 \r\nQ 38.921875 48.1875 33.109375 48.1875 \r\nQ 26.21875 48.1875 22.15625 43.53125 \r\nQ 18.109375 38.875 18.109375 30.90625 \r\nL 18.109375 0 \r\nL 9.078125 0 \r\nL 9.078125 54.6875 \r\nL 18.109375 54.6875 \r\nL 18.109375 46.1875 \r\nQ 21.1875 51.21875 25.484375 53.609375 \r\nQ 29.78125 56 35.6875 56 \r\nQ 41.65625 56 45.828125 52.96875 \r\nQ 50 49.953125 52 44.1875 \r\nz\r\n\" id=\"DejaVuSans-109\"/>\r\n        <path d=\"M 9.421875 54.6875 \r\nL 18.40625 54.6875 \r\nL 18.40625 0 \r\nL 9.421875 0 \r\nz\r\nM 9.421875 75.984375 \r\nL 18.40625 75.984375 \r\nL 18.40625 64.59375 \r\nL 9.421875 64.59375 \r\nz\r\n\" id=\"DejaVuSans-105\"/>\r\n        <path d=\"M 11.71875 12.40625 \r\nL 22.015625 12.40625 \r\nL 22.015625 4 \r\nL 14.015625 -11.625 \r\nL 7.71875 -11.625 \r\nL 11.71875 4 \r\nz\r\n\" id=\"DejaVuSans-44\"/>\r\n        <path d=\"M 9.8125 72.90625 \r\nL 19.671875 72.90625 \r\nL 19.671875 43.015625 \r\nL 55.515625 43.015625 \r\nL 55.515625 72.90625 \r\nL 65.375 72.90625 \r\nL 65.375 0 \r\nL 55.515625 0 \r\nL 55.515625 34.71875 \r\nL 19.671875 34.71875 \r\nL 19.671875 0 \r\nL 9.8125 0 \r\nz\r\n\" id=\"DejaVuSans-72\"/>\r\n        <path d=\"M 9.421875 75.984375 \r\nL 18.40625 75.984375 \r\nL 18.40625 0 \r\nL 9.421875 0 \r\nz\r\n\" id=\"DejaVuSans-108\"/>\r\n        <path d=\"M 44.28125 53.078125 \r\nL 44.28125 44.578125 \r\nQ 40.484375 46.53125 36.375 47.5 \r\nQ 32.28125 48.484375 27.875 48.484375 \r\nQ 21.1875 48.484375 17.84375 46.4375 \r\nQ 14.5 44.390625 14.5 40.28125 \r\nQ 14.5 37.15625 16.890625 35.375 \r\nQ 19.28125 33.59375 26.515625 31.984375 \r\nL 29.59375 31.296875 \r\nQ 39.15625 29.25 43.1875 25.515625 \r\nQ 47.21875 21.78125 47.21875 15.09375 \r\nQ 47.21875 7.46875 41.1875 3.015625 \r\nQ 35.15625 -1.421875 24.609375 -1.421875 \r\nQ 20.21875 -1.421875 15.453125 -0.5625 \r\nQ 10.6875 0.296875 5.421875 2 \r\nL 5.421875 11.28125 \r\nQ 10.40625 8.6875 15.234375 7.390625 \r\nQ 20.0625 6.109375 24.8125 6.109375 \r\nQ 31.15625 6.109375 34.5625 8.28125 \r\nQ 37.984375 10.453125 37.984375 14.40625 \r\nQ 37.984375 18.0625 35.515625 20.015625 \r\nQ 33.0625 21.96875 24.703125 23.78125 \r\nL 21.578125 24.515625 \r\nQ 13.234375 26.265625 9.515625 29.90625 \r\nQ 5.8125 33.546875 5.8125 39.890625 \r\nQ 5.8125 47.609375 11.28125 51.796875 \r\nQ 16.75 56 26.8125 56 \r\nQ 31.78125 56 36.171875 55.265625 \r\nQ 40.578125 54.546875 44.28125 53.078125 \r\nz\r\n\" id=\"DejaVuSans-115\"/>\r\n        <path d=\"M 45.40625 46.390625 \r\nL 45.40625 75.984375 \r\nL 54.390625 75.984375 \r\nL 54.390625 0 \r\nL 45.40625 0 \r\nL 45.40625 8.203125 \r\nQ 42.578125 3.328125 38.25 0.953125 \r\nQ 33.9375 -1.421875 27.875 -1.421875 \r\nQ 17.96875 -1.421875 11.734375 6.484375 \r\nQ 5.515625 14.40625 5.515625 27.296875 \r\nQ 5.515625 40.1875 11.734375 48.09375 \r\nQ 17.96875 56 27.875 56 \r\nQ 33.9375 56 38.25 53.625 \r\nQ 42.578125 51.265625 45.40625 46.390625 \r\nz\r\nM 14.796875 27.296875 \r\nQ 14.796875 17.390625 18.875 11.75 \r\nQ 22.953125 6.109375 30.078125 6.109375 \r\nQ 37.203125 6.109375 41.296875 11.75 \r\nQ 45.40625 17.390625 45.40625 27.296875 \r\nQ 45.40625 37.203125 41.296875 42.84375 \r\nQ 37.203125 48.484375 30.078125 48.484375 \r\nQ 22.953125 48.484375 18.875 42.84375 \r\nQ 14.796875 37.203125 14.796875 27.296875 \r\nz\r\n\" id=\"DejaVuSans-100\"/>\r\n        <path d=\"M 53.515625 70.515625 \r\nL 53.515625 60.890625 \r\nQ 47.90625 63.578125 42.921875 64.890625 \r\nQ 37.9375 66.21875 33.296875 66.21875 \r\nQ 25.25 66.21875 20.875 63.09375 \r\nQ 16.5 59.96875 16.5 54.203125 \r\nQ 16.5 49.359375 19.40625 46.890625 \r\nQ 22.3125 44.4375 30.421875 42.921875 \r\nL 36.375 41.703125 \r\nQ 47.40625 39.59375 52.65625 34.296875 \r\nQ 57.90625 29 57.90625 20.125 \r\nQ 57.90625 9.515625 50.796875 4.046875 \r\nQ 43.703125 -1.421875 29.984375 -1.421875 \r\nQ 24.8125 -1.421875 18.96875 -0.25 \r\nQ 13.140625 0.921875 6.890625 3.21875 \r\nL 6.890625 13.375 \r\nQ 12.890625 10.015625 18.65625 8.296875 \r\nQ 24.421875 6.59375 29.984375 6.59375 \r\nQ 38.421875 6.59375 43.015625 9.90625 \r\nQ 47.609375 13.234375 47.609375 19.390625 \r\nQ 47.609375 24.75 44.3125 27.78125 \r\nQ 41.015625 30.8125 33.5 32.328125 \r\nL 27.484375 33.5 \r\nQ 16.453125 35.6875 11.515625 40.375 \r\nQ 6.59375 45.0625 6.59375 53.421875 \r\nQ 6.59375 63.09375 13.40625 68.65625 \r\nQ 20.21875 74.21875 32.171875 74.21875 \r\nQ 37.3125 74.21875 42.625 73.28125 \r\nQ 47.953125 72.359375 53.515625 70.515625 \r\nz\r\n\" id=\"DejaVuSans-83\"/>\r\n        <path d=\"M 48.78125 52.59375 \r\nL 48.78125 44.1875 \r\nQ 44.96875 46.296875 41.140625 47.34375 \r\nQ 37.3125 48.390625 33.40625 48.390625 \r\nQ 24.65625 48.390625 19.8125 42.84375 \r\nQ 14.984375 37.3125 14.984375 27.296875 \r\nQ 14.984375 17.28125 19.8125 11.734375 \r\nQ 24.65625 6.203125 33.40625 6.203125 \r\nQ 37.3125 6.203125 41.140625 7.25 \r\nQ 44.96875 8.296875 48.78125 10.40625 \r\nL 48.78125 2.09375 \r\nQ 45.015625 0.34375 40.984375 -0.53125 \r\nQ 36.96875 -1.421875 32.421875 -1.421875 \r\nQ 20.0625 -1.421875 12.78125 6.34375 \r\nQ 5.515625 14.109375 5.515625 27.296875 \r\nQ 5.515625 40.671875 12.859375 48.328125 \r\nQ 20.21875 56 33.015625 56 \r\nQ 37.15625 56 41.109375 55.140625 \r\nQ 45.0625 54.296875 48.78125 52.59375 \r\nz\r\n\" id=\"DejaVuSans-99\"/>\r\n        <path d=\"M 54.890625 33.015625 \r\nL 54.890625 0 \r\nL 45.90625 0 \r\nL 45.90625 32.71875 \r\nQ 45.90625 40.484375 42.875 44.328125 \r\nQ 39.84375 48.1875 33.796875 48.1875 \r\nQ 26.515625 48.1875 22.3125 43.546875 \r\nQ 18.109375 38.921875 18.109375 30.90625 \r\nL 18.109375 0 \r\nL 9.078125 0 \r\nL 9.078125 75.984375 \r\nL 18.109375 75.984375 \r\nL 18.109375 46.1875 \r\nQ 21.34375 51.125 25.703125 53.5625 \r\nQ 30.078125 56 35.796875 56 \r\nQ 45.21875 56 50.046875 50.171875 \r\nQ 54.890625 44.34375 54.890625 33.015625 \r\nz\r\n\" id=\"DejaVuSans-104\"/>\r\n       </defs>\r\n       <use xlink:href=\"#DejaVuSans-70\"/>\r\n       <use x=\"50.269531\" xlink:href=\"#DejaVuSans-114\"/>\r\n       <use x=\"91.382812\" xlink:href=\"#DejaVuSans-97\"/>\r\n       <use x=\"152.662109\" xlink:href=\"#DejaVuSans-109\"/>\r\n       <use x=\"250.074219\" xlink:href=\"#DejaVuSans-105\"/>\r\n       <use x=\"277.857422\" xlink:href=\"#DejaVuSans-44\"/>\r\n       <use x=\"309.644531\" xlink:href=\"#DejaVuSans-32\"/>\r\n       <use x=\"341.431641\" xlink:href=\"#DejaVuSans-72\"/>\r\n       <use x=\"416.626953\" xlink:href=\"#DejaVuSans-105\"/>\r\n       <use x=\"444.410156\" xlink:href=\"#DejaVuSans-108\"/>\r\n       <use x=\"472.193359\" xlink:href=\"#DejaVuSans-108\"/>\r\n       <use x=\"499.976562\" xlink:href=\"#DejaVuSans-115\"/>\r\n       <use x=\"552.076172\" xlink:href=\"#DejaVuSans-32\"/>\r\n       <use x=\"583.863281\" xlink:href=\"#DejaVuSans-97\"/>\r\n       <use x=\"645.142578\" xlink:href=\"#DejaVuSans-110\"/>\r\n       <use x=\"708.521484\" xlink:href=\"#DejaVuSans-100\"/>\r\n       <use x=\"771.998047\" xlink:href=\"#DejaVuSans-32\"/>\r\n       <use x=\"803.785156\" xlink:href=\"#DejaVuSans-83\"/>\r\n       <use x=\"867.261719\" xlink:href=\"#DejaVuSans-99\"/>\r\n       <use x=\"922.242188\" xlink:href=\"#DejaVuSans-104\"/>\r\n       <use x=\"985.621094\" xlink:href=\"#DejaVuSans-109\"/>\r\n       <use x=\"1083.033203\" xlink:href=\"#DejaVuSans-105\"/>\r\n       <use x=\"1110.816406\" xlink:href=\"#DejaVuSans-100\"/>\r\n       <use x=\"1174.292969\" xlink:href=\"#DejaVuSans-116\"/>\r\n      </g>\r\n     </g>\r\n    </g>\r\n    <g id=\"ytick_3\">\r\n     <g id=\"line2d_11\">\r\n      <path clip-path=\"url(#pa48bcf517a)\" d=\"M 212.37 183.378741 \r\nL 393.23378 183.378741 \r\n\" style=\"fill:none;stroke:#000000;\"/>\r\n     </g>\r\n     <g id=\"line2d_12\"/>\r\n     <g id=\"text_6\">\r\n      <!-- Fritsch, Russel and Anderson -->\r\n      <g transform=\"translate(7.2 188.697648)scale(0.14 -0.14)\">\r\n       <defs>\r\n        <path d=\"M 44.390625 34.1875 \r\nQ 47.5625 33.109375 50.5625 29.59375 \r\nQ 53.5625 26.078125 56.59375 19.921875 \r\nL 66.609375 0 \r\nL 56 0 \r\nL 46.6875 18.703125 \r\nQ 43.0625 26.03125 39.671875 28.421875 \r\nQ 36.28125 30.8125 30.421875 30.8125 \r\nL 19.671875 30.8125 \r\nL 19.671875 0 \r\nL 9.8125 0 \r\nL 9.8125 72.90625 \r\nL 32.078125 72.90625 \r\nQ 44.578125 72.90625 50.734375 67.671875 \r\nQ 56.890625 62.453125 56.890625 51.90625 \r\nQ 56.890625 45.015625 53.6875 40.46875 \r\nQ 50.484375 35.9375 44.390625 34.1875 \r\nz\r\nM 19.671875 64.796875 \r\nL 19.671875 38.921875 \r\nL 32.078125 38.921875 \r\nQ 39.203125 38.921875 42.84375 42.21875 \r\nQ 46.484375 45.515625 46.484375 51.90625 \r\nQ 46.484375 58.296875 42.84375 61.546875 \r\nQ 39.203125 64.796875 32.078125 64.796875 \r\nz\r\n\" id=\"DejaVuSans-82\"/>\r\n        <path d=\"M 8.5 21.578125 \r\nL 8.5 54.6875 \r\nL 17.484375 54.6875 \r\nL 17.484375 21.921875 \r\nQ 17.484375 14.15625 20.5 10.265625 \r\nQ 23.53125 6.390625 29.59375 6.390625 \r\nQ 36.859375 6.390625 41.078125 11.03125 \r\nQ 45.3125 15.671875 45.3125 23.6875 \r\nL 45.3125 54.6875 \r\nL 54.296875 54.6875 \r\nL 54.296875 0 \r\nL 45.3125 0 \r\nL 45.3125 8.40625 \r\nQ 42.046875 3.421875 37.71875 1 \r\nQ 33.40625 -1.421875 27.6875 -1.421875 \r\nQ 18.265625 -1.421875 13.375 4.4375 \r\nQ 8.5 10.296875 8.5 21.578125 \r\nz\r\nM 31.109375 56 \r\nz\r\n\" id=\"DejaVuSans-117\"/>\r\n        <path d=\"M 56.203125 29.59375 \r\nL 56.203125 25.203125 \r\nL 14.890625 25.203125 \r\nQ 15.484375 15.921875 20.484375 11.0625 \r\nQ 25.484375 6.203125 34.421875 6.203125 \r\nQ 39.59375 6.203125 44.453125 7.46875 \r\nQ 49.3125 8.734375 54.109375 11.28125 \r\nL 54.109375 2.78125 \r\nQ 49.265625 0.734375 44.1875 -0.34375 \r\nQ 39.109375 -1.421875 33.890625 -1.421875 \r\nQ 20.796875 -1.421875 13.15625 6.1875 \r\nQ 5.515625 13.8125 5.515625 26.8125 \r\nQ 5.515625 40.234375 12.765625 48.109375 \r\nQ 20.015625 56 32.328125 56 \r\nQ 43.359375 56 49.78125 48.890625 \r\nQ 56.203125 41.796875 56.203125 29.59375 \r\nz\r\nM 47.21875 32.234375 \r\nQ 47.125 39.59375 43.09375 43.984375 \r\nQ 39.0625 48.390625 32.421875 48.390625 \r\nQ 24.90625 48.390625 20.390625 44.140625 \r\nQ 15.875 39.890625 15.1875 32.171875 \r\nz\r\n\" id=\"DejaVuSans-101\"/>\r\n        <path d=\"M 34.1875 63.1875 \r\nL 20.796875 26.90625 \r\nL 47.609375 26.90625 \r\nz\r\nM 28.609375 72.90625 \r\nL 39.796875 72.90625 \r\nL 67.578125 0 \r\nL 57.328125 0 \r\nL 50.6875 18.703125 \r\nL 17.828125 18.703125 \r\nL 11.1875 0 \r\nL 0.78125 0 \r\nz\r\n\" id=\"DejaVuSans-65\"/>\r\n       </defs>\r\n       <use xlink:href=\"#DejaVuSans-70\"/>\r\n       <use x=\"50.269531\" xlink:href=\"#DejaVuSans-114\"/>\r\n       <use x=\"91.382812\" xlink:href=\"#DejaVuSans-105\"/>\r\n       <use x=\"119.166016\" xlink:href=\"#DejaVuSans-116\"/>\r\n       <use x=\"158.375\" xlink:href=\"#DejaVuSans-115\"/>\r\n       <use x=\"210.474609\" xlink:href=\"#DejaVuSans-99\"/>\r\n       <use x=\"265.455078\" xlink:href=\"#DejaVuSans-104\"/>\r\n       <use x=\"328.833984\" xlink:href=\"#DejaVuSans-44\"/>\r\n       <use x=\"360.621094\" xlink:href=\"#DejaVuSans-32\"/>\r\n       <use x=\"392.408203\" xlink:href=\"#DejaVuSans-82\"/>\r\n       <use x=\"457.390625\" xlink:href=\"#DejaVuSans-117\"/>\r\n       <use x=\"520.769531\" xlink:href=\"#DejaVuSans-115\"/>\r\n       <use x=\"572.869141\" xlink:href=\"#DejaVuSans-115\"/>\r\n       <use x=\"624.96875\" xlink:href=\"#DejaVuSans-101\"/>\r\n       <use x=\"686.492188\" xlink:href=\"#DejaVuSans-108\"/>\r\n       <use x=\"714.275391\" xlink:href=\"#DejaVuSans-32\"/>\r\n       <use x=\"746.0625\" xlink:href=\"#DejaVuSans-97\"/>\r\n       <use x=\"807.341797\" xlink:href=\"#DejaVuSans-110\"/>\r\n       <use x=\"870.720703\" xlink:href=\"#DejaVuSans-100\"/>\r\n       <use x=\"934.197266\" xlink:href=\"#DejaVuSans-32\"/>\r\n       <use x=\"965.984375\" xlink:href=\"#DejaVuSans-65\"/>\r\n       <use x=\"1034.392578\" xlink:href=\"#DejaVuSans-110\"/>\r\n       <use x=\"1097.771484\" xlink:href=\"#DejaVuSans-100\"/>\r\n       <use x=\"1161.248047\" xlink:href=\"#DejaVuSans-101\"/>\r\n       <use x=\"1222.771484\" xlink:href=\"#DejaVuSans-114\"/>\r\n       <use x=\"1263.884766\" xlink:href=\"#DejaVuSans-115\"/>\r\n       <use x=\"1315.984375\" xlink:href=\"#DejaVuSans-111\"/>\r\n       <use x=\"1377.166016\" xlink:href=\"#DejaVuSans-110\"/>\r\n      </g>\r\n     </g>\r\n    </g>\r\n    <g id=\"ytick_4\">\r\n     <g id=\"line2d_13\">\r\n      <path clip-path=\"url(#pa48bcf517a)\" d=\"M 212.37 161.04937 \r\nL 393.23378 161.04937 \r\n\" style=\"fill:none;stroke:#000000;\"/>\r\n     </g>\r\n     <g id=\"line2d_14\"/>\r\n     <g id=\"text_7\">\r\n      <!-- Jerde-Hilpert -->\r\n      <g transform=\"translate(121.009062 166.368276)scale(0.14 -0.14)\">\r\n       <defs>\r\n        <path d=\"M 9.8125 72.90625 \r\nL 19.671875 72.90625 \r\nL 19.671875 5.078125 \r\nQ 19.671875 -8.109375 14.671875 -14.0625 \r\nQ 9.671875 -20.015625 -1.421875 -20.015625 \r\nL -5.171875 -20.015625 \r\nL -5.171875 -11.71875 \r\nL -2.09375 -11.71875 \r\nQ 4.4375 -11.71875 7.125 -8.046875 \r\nQ 9.8125 -4.390625 9.8125 5.078125 \r\nz\r\n\" id=\"DejaVuSans-74\"/>\r\n        <path d=\"M 4.890625 31.390625 \r\nL 31.203125 31.390625 \r\nL 31.203125 23.390625 \r\nL 4.890625 23.390625 \r\nz\r\n\" id=\"DejaVuSans-45\"/>\r\n        <path d=\"M 18.109375 8.203125 \r\nL 18.109375 -20.796875 \r\nL 9.078125 -20.796875 \r\nL 9.078125 54.6875 \r\nL 18.109375 54.6875 \r\nL 18.109375 46.390625 \r\nQ 20.953125 51.265625 25.265625 53.625 \r\nQ 29.59375 56 35.59375 56 \r\nQ 45.5625 56 51.78125 48.09375 \r\nQ 58.015625 40.1875 58.015625 27.296875 \r\nQ 58.015625 14.40625 51.78125 6.484375 \r\nQ 45.5625 -1.421875 35.59375 -1.421875 \r\nQ 29.59375 -1.421875 25.265625 0.953125 \r\nQ 20.953125 3.328125 18.109375 8.203125 \r\nz\r\nM 48.6875 27.296875 \r\nQ 48.6875 37.203125 44.609375 42.84375 \r\nQ 40.53125 48.484375 33.40625 48.484375 \r\nQ 26.265625 48.484375 22.1875 42.84375 \r\nQ 18.109375 37.203125 18.109375 27.296875 \r\nQ 18.109375 17.390625 22.1875 11.75 \r\nQ 26.265625 6.109375 33.40625 6.109375 \r\nQ 40.53125 6.109375 44.609375 11.75 \r\nQ 48.6875 17.390625 48.6875 27.296875 \r\nz\r\n\" id=\"DejaVuSans-112\"/>\r\n       </defs>\r\n       <use xlink:href=\"#DejaVuSans-74\"/>\r\n       <use x=\"29.492188\" xlink:href=\"#DejaVuSans-101\"/>\r\n       <use x=\"91.015625\" xlink:href=\"#DejaVuSans-114\"/>\r\n       <use x=\"130.378906\" xlink:href=\"#DejaVuSans-100\"/>\r\n       <use x=\"193.855469\" xlink:href=\"#DejaVuSans-101\"/>\r\n       <use x=\"255.378906\" xlink:href=\"#DejaVuSans-45\"/>\r\n       <use x=\"291.462891\" xlink:href=\"#DejaVuSans-72\"/>\r\n       <use x=\"366.658203\" xlink:href=\"#DejaVuSans-105\"/>\r\n       <use x=\"394.441406\" xlink:href=\"#DejaVuSans-108\"/>\r\n       <use x=\"422.224609\" xlink:href=\"#DejaVuSans-112\"/>\r\n       <use x=\"485.701172\" xlink:href=\"#DejaVuSans-101\"/>\r\n       <use x=\"547.224609\" xlink:href=\"#DejaVuSans-114\"/>\r\n       <use x=\"588.337891\" xlink:href=\"#DejaVuSans-116\"/>\r\n      </g>\r\n     </g>\r\n    </g>\r\n    <g id=\"ytick_5\">\r\n     <g id=\"line2d_15\">\r\n      <path clip-path=\"url(#pa48bcf517a)\" d=\"M 212.37 138.719998 \r\nL 393.23378 138.719998 \r\n\" style=\"fill:none;stroke:#000000;\"/>\r\n     </g>\r\n     <g id=\"line2d_16\"/>\r\n     <g id=\"text_8\">\r\n      <!-- Keeling LLC -->\r\n      <g transform=\"translate(127.794687 144.038905)scale(0.14 -0.14)\">\r\n       <defs>\r\n        <path d=\"M 9.8125 72.90625 \r\nL 19.671875 72.90625 \r\nL 19.671875 42.09375 \r\nL 52.390625 72.90625 \r\nL 65.09375 72.90625 \r\nL 28.90625 38.921875 \r\nL 67.671875 0 \r\nL 54.6875 0 \r\nL 19.671875 35.109375 \r\nL 19.671875 0 \r\nL 9.8125 0 \r\nz\r\n\" id=\"DejaVuSans-75\"/>\r\n        <path d=\"M 45.40625 27.984375 \r\nQ 45.40625 37.75 41.375 43.109375 \r\nQ 37.359375 48.484375 30.078125 48.484375 \r\nQ 22.859375 48.484375 18.828125 43.109375 \r\nQ 14.796875 37.75 14.796875 27.984375 \r\nQ 14.796875 18.265625 18.828125 12.890625 \r\nQ 22.859375 7.515625 30.078125 7.515625 \r\nQ 37.359375 7.515625 41.375 12.890625 \r\nQ 45.40625 18.265625 45.40625 27.984375 \r\nz\r\nM 54.390625 6.78125 \r\nQ 54.390625 -7.171875 48.1875 -13.984375 \r\nQ 42 -20.796875 29.203125 -20.796875 \r\nQ 24.46875 -20.796875 20.265625 -20.09375 \r\nQ 16.0625 -19.390625 12.109375 -17.921875 \r\nL 12.109375 -9.1875 \r\nQ 16.0625 -11.328125 19.921875 -12.34375 \r\nQ 23.78125 -13.375 27.78125 -13.375 \r\nQ 36.625 -13.375 41.015625 -8.765625 \r\nQ 45.40625 -4.15625 45.40625 5.171875 \r\nL 45.40625 9.625 \r\nQ 42.625 4.78125 38.28125 2.390625 \r\nQ 33.9375 0 27.875 0 \r\nQ 17.828125 0 11.671875 7.65625 \r\nQ 5.515625 15.328125 5.515625 27.984375 \r\nQ 5.515625 40.671875 11.671875 48.328125 \r\nQ 17.828125 56 27.875 56 \r\nQ 33.9375 56 38.28125 53.609375 \r\nQ 42.625 51.21875 45.40625 46.390625 \r\nL 45.40625 54.6875 \r\nL 54.390625 54.6875 \r\nz\r\n\" id=\"DejaVuSans-103\"/>\r\n       </defs>\r\n       <use xlink:href=\"#DejaVuSans-75\"/>\r\n       <use x=\"60.576172\" xlink:href=\"#DejaVuSans-101\"/>\r\n       <use x=\"122.099609\" xlink:href=\"#DejaVuSans-101\"/>\r\n       <use x=\"183.623047\" xlink:href=\"#DejaVuSans-108\"/>\r\n       <use x=\"211.40625\" xlink:href=\"#DejaVuSans-105\"/>\r\n       <use x=\"239.189453\" xlink:href=\"#DejaVuSans-110\"/>\r\n       <use x=\"302.568359\" xlink:href=\"#DejaVuSans-103\"/>\r\n       <use x=\"366.044922\" xlink:href=\"#DejaVuSans-32\"/>\r\n       <use x=\"397.832031\" xlink:href=\"#DejaVuSans-76\"/>\r\n       <use x=\"453.544922\" xlink:href=\"#DejaVuSans-76\"/>\r\n       <use x=\"509.257812\" xlink:href=\"#DejaVuSans-67\"/>\r\n      </g>\r\n     </g>\r\n    </g>\r\n    <g id=\"ytick_6\">\r\n     <g id=\"line2d_17\">\r\n      <path clip-path=\"url(#pa48bcf517a)\" d=\"M 212.37 116.390627 \r\nL 393.23378 116.390627 \r\n\" style=\"fill:none;stroke:#000000;\"/>\r\n     </g>\r\n     <g id=\"line2d_18\"/>\r\n     <g id=\"text_9\">\r\n      <!-- Koepp Ltd -->\r\n      <g transform=\"translate(138.806562 121.709533)scale(0.14 -0.14)\">\r\n       <use xlink:href=\"#DejaVuSans-75\"/>\r\n       <use x=\"60.576172\" xlink:href=\"#DejaVuSans-111\"/>\r\n       <use x=\"121.757812\" xlink:href=\"#DejaVuSans-101\"/>\r\n       <use x=\"183.28125\" xlink:href=\"#DejaVuSans-112\"/>\r\n       <use x=\"246.757812\" xlink:href=\"#DejaVuSans-112\"/>\r\n       <use x=\"310.234375\" xlink:href=\"#DejaVuSans-32\"/>\r\n       <use x=\"342.021484\" xlink:href=\"#DejaVuSans-76\"/>\r\n       <use x=\"397.734375\" xlink:href=\"#DejaVuSans-116\"/>\r\n       <use x=\"436.943359\" xlink:href=\"#DejaVuSans-100\"/>\r\n      </g>\r\n     </g>\r\n    </g>\r\n    <g id=\"ytick_7\">\r\n     <g id=\"line2d_19\">\r\n      <path clip-path=\"url(#pa48bcf517a)\" d=\"M 212.37 94.061255 \r\nL 393.23378 94.061255 \r\n\" style=\"fill:none;stroke:#000000;\"/>\r\n     </g>\r\n     <g id=\"line2d_20\"/>\r\n     <g id=\"text_10\">\r\n      <!-- Kulas Inc -->\r\n      <g transform=\"translate(146.605 99.380161)scale(0.14 -0.14)\">\r\n       <defs>\r\n        <path d=\"M 9.8125 72.90625 \r\nL 19.671875 72.90625 \r\nL 19.671875 0 \r\nL 9.8125 0 \r\nz\r\n\" id=\"DejaVuSans-73\"/>\r\n       </defs>\r\n       <use xlink:href=\"#DejaVuSans-75\"/>\r\n       <use x=\"60.576172\" xlink:href=\"#DejaVuSans-117\"/>\r\n       <use x=\"123.955078\" xlink:href=\"#DejaVuSans-108\"/>\r\n       <use x=\"151.738281\" xlink:href=\"#DejaVuSans-97\"/>\r\n       <use x=\"213.017578\" xlink:href=\"#DejaVuSans-115\"/>\r\n       <use x=\"265.117188\" xlink:href=\"#DejaVuSans-32\"/>\r\n       <use x=\"296.904297\" xlink:href=\"#DejaVuSans-73\"/>\r\n       <use x=\"326.396484\" xlink:href=\"#DejaVuSans-110\"/>\r\n       <use x=\"389.775391\" xlink:href=\"#DejaVuSans-99\"/>\r\n      </g>\r\n     </g>\r\n    </g>\r\n    <g id=\"ytick_8\">\r\n     <g id=\"line2d_21\">\r\n      <path clip-path=\"url(#pa48bcf517a)\" d=\"M 212.37 71.731884 \r\nL 393.23378 71.731884 \r\n\" style=\"fill:none;stroke:#000000;\"/>\r\n     </g>\r\n     <g id=\"line2d_22\"/>\r\n     <g id=\"text_11\">\r\n      <!-- Trantow-Barrows -->\r\n      <g transform=\"translate(92.685312 77.05079)scale(0.14 -0.14)\">\r\n       <defs>\r\n        <path d=\"M -0.296875 72.90625 \r\nL 61.375 72.90625 \r\nL 61.375 64.59375 \r\nL 35.5 64.59375 \r\nL 35.5 0 \r\nL 25.59375 0 \r\nL 25.59375 64.59375 \r\nL -0.296875 64.59375 \r\nz\r\n\" id=\"DejaVuSans-84\"/>\r\n        <path d=\"M 4.203125 54.6875 \r\nL 13.1875 54.6875 \r\nL 24.421875 12.015625 \r\nL 35.59375 54.6875 \r\nL 46.1875 54.6875 \r\nL 57.421875 12.015625 \r\nL 68.609375 54.6875 \r\nL 77.59375 54.6875 \r\nL 63.28125 0 \r\nL 52.6875 0 \r\nL 40.921875 44.828125 \r\nL 29.109375 0 \r\nL 18.5 0 \r\nz\r\n\" id=\"DejaVuSans-119\"/>\r\n       </defs>\r\n       <use xlink:href=\"#DejaVuSans-84\"/>\r\n       <use x=\"46.333984\" xlink:href=\"#DejaVuSans-114\"/>\r\n       <use x=\"87.447266\" xlink:href=\"#DejaVuSans-97\"/>\r\n       <use x=\"148.726562\" xlink:href=\"#DejaVuSans-110\"/>\r\n       <use x=\"212.105469\" xlink:href=\"#DejaVuSans-116\"/>\r\n       <use x=\"251.314453\" xlink:href=\"#DejaVuSans-111\"/>\r\n       <use x=\"312.496094\" xlink:href=\"#DejaVuSans-119\"/>\r\n       <use x=\"394.283203\" xlink:href=\"#DejaVuSans-45\"/>\r\n       <use x=\"426.742188\" xlink:href=\"#DejaVuSans-66\"/>\r\n       <use x=\"495.345703\" xlink:href=\"#DejaVuSans-97\"/>\r\n       <use x=\"556.625\" xlink:href=\"#DejaVuSans-114\"/>\r\n       <use x=\"595.988281\" xlink:href=\"#DejaVuSans-114\"/>\r\n       <use x=\"634.851562\" xlink:href=\"#DejaVuSans-111\"/>\r\n       <use x=\"696.033203\" xlink:href=\"#DejaVuSans-119\"/>\r\n       <use x=\"777.820312\" xlink:href=\"#DejaVuSans-115\"/>\r\n      </g>\r\n     </g>\r\n    </g>\r\n    <g id=\"ytick_9\">\r\n     <g id=\"line2d_23\">\r\n      <path clip-path=\"url(#pa48bcf517a)\" d=\"M 212.37 49.402512 \r\nL 393.23378 49.402512 \r\n\" style=\"fill:none;stroke:#000000;\"/>\r\n     </g>\r\n     <g id=\"line2d_24\"/>\r\n     <g id=\"text_12\">\r\n      <!-- White-Trantow -->\r\n      <g transform=\"translate(109.192187 54.721418)scale(0.14 -0.14)\">\r\n       <defs>\r\n        <path d=\"M 3.328125 72.90625 \r\nL 13.28125 72.90625 \r\nL 28.609375 11.28125 \r\nL 43.890625 72.90625 \r\nL 54.984375 72.90625 \r\nL 70.3125 11.28125 \r\nL 85.59375 72.90625 \r\nL 95.609375 72.90625 \r\nL 77.296875 0 \r\nL 64.890625 0 \r\nL 49.515625 63.28125 \r\nL 33.984375 0 \r\nL 21.578125 0 \r\nz\r\n\" id=\"DejaVuSans-87\"/>\r\n       </defs>\r\n       <use xlink:href=\"#DejaVuSans-87\"/>\r\n       <use x=\"98.876953\" xlink:href=\"#DejaVuSans-104\"/>\r\n       <use x=\"162.255859\" xlink:href=\"#DejaVuSans-105\"/>\r\n       <use x=\"190.039062\" xlink:href=\"#DejaVuSans-116\"/>\r\n       <use x=\"229.248047\" xlink:href=\"#DejaVuSans-101\"/>\r\n       <use x=\"290.771484\" xlink:href=\"#DejaVuSans-45\"/>\r\n       <use x=\"317.730469\" xlink:href=\"#DejaVuSans-84\"/>\r\n       <use x=\"364.064453\" xlink:href=\"#DejaVuSans-114\"/>\r\n       <use x=\"405.177734\" xlink:href=\"#DejaVuSans-97\"/>\r\n       <use x=\"466.457031\" xlink:href=\"#DejaVuSans-110\"/>\r\n       <use x=\"529.835938\" xlink:href=\"#DejaVuSans-116\"/>\r\n       <use x=\"569.044922\" xlink:href=\"#DejaVuSans-111\"/>\r\n       <use x=\"630.226562\" xlink:href=\"#DejaVuSans-119\"/>\r\n      </g>\r\n     </g>\r\n    </g>\r\n    <g id=\"ytick_10\">\r\n     <g id=\"line2d_25\">\r\n      <path clip-path=\"url(#pa48bcf517a)\" d=\"M 212.37 27.073141 \r\nL 393.23378 27.073141 \r\n\" style=\"fill:none;stroke:#000000;\"/>\r\n     </g>\r\n     <g id=\"line2d_26\"/>\r\n     <g id=\"text_13\">\r\n      <!-- Will LLC -->\r\n      <g transform=\"translate(153.847813 32.392047)scale(0.14 -0.14)\">\r\n       <use xlink:href=\"#DejaVuSans-87\"/>\r\n       <use x=\"96.626953\" xlink:href=\"#DejaVuSans-105\"/>\r\n       <use x=\"124.410156\" xlink:href=\"#DejaVuSans-108\"/>\r\n       <use x=\"152.193359\" xlink:href=\"#DejaVuSans-108\"/>\r\n       <use x=\"179.976562\" xlink:href=\"#DejaVuSans-32\"/>\r\n       <use x=\"211.763672\" xlink:href=\"#DejaVuSans-76\"/>\r\n       <use x=\"267.476562\" xlink:href=\"#DejaVuSans-76\"/>\r\n       <use x=\"323.189453\" xlink:href=\"#DejaVuSans-67\"/>\r\n      </g>\r\n     </g>\r\n    </g>\r\n   </g>\r\n   <g id=\"patch_3\">\r\n    <path clip-path=\"url(#pa48bcf517a)\" d=\"M 212.37 236.969233 \r\nL 349.61533 236.969233 \r\nL 349.61533 219.105736 \r\nL 212.37 219.105736 \r\nz\r\n\"/>\r\n   </g>\r\n   <g id=\"patch_4\">\r\n    <path clip-path=\"url(#pa48bcf517a)\" d=\"M 212.37 214.639861 \r\nL 342.25521 214.639861 \r\nL 342.25521 196.776364 \r\nL 212.37 196.776364 \r\nz\r\n\"/>\r\n   </g>\r\n   <g id=\"patch_5\">\r\n    <path clip-path=\"url(#pa48bcf517a)\" d=\"M 212.37 192.31049 \r\nL 353.096937 192.31049 \r\nL 353.096937 174.446993 \r\nL 212.37 174.446993 \r\nz\r\n\"/>\r\n   </g>\r\n   <g id=\"patch_6\">\r\n    <path clip-path=\"url(#pa48bcf517a)\" d=\"M 212.37 169.981118 \r\nL 353.569376 169.981118 \r\nL 353.569376 152.117621 \r\nL 212.37 152.117621 \r\nz\r\n\"/>\r\n   </g>\r\n   <g id=\"patch_7\">\r\n    <path clip-path=\"url(#pa48bcf517a)\" d=\"M 212.37 147.651747 \r\nL 338.950329 147.651747 \r\nL 338.950329 129.78825 \r\nL 212.37 129.78825 \r\nz\r\n\"/>\r\n   </g>\r\n   <g id=\"patch_8\">\r\n    <path clip-path=\"url(#pa48bcf517a)\" d=\"M 212.37 125.322375 \r\nL 342.369269 125.322375 \r\nL 342.369269 107.458878 \r\nL 212.37 107.458878 \r\nz\r\n\"/>\r\n   </g>\r\n   <g id=\"patch_9\">\r\n    <path clip-path=\"url(#pa48bcf517a)\" d=\"M 212.37 102.993004 \r\nL 384.621219 102.993004 \r\nL 384.621219 85.129507 \r\nL 212.37 85.129507 \r\nz\r\n\"/>\r\n   </g>\r\n   <g id=\"patch_10\">\r\n    <path clip-path=\"url(#pa48bcf517a)\" d=\"M 212.37 80.663632 \r\nL 367.100906 80.663632 \r\nL 367.100906 62.800135 \r\nL 212.37 62.800135 \r\nz\r\n\"/>\r\n   </g>\r\n   <g id=\"patch_11\">\r\n    <path clip-path=\"url(#pa48bcf517a)\" d=\"M 212.37 58.334261 \r\nL 382.727587 58.334261 \r\nL 382.727587 40.470764 \r\nL 212.37 40.470764 \r\nz\r\n\"/>\r\n   </g>\r\n   <g id=\"patch_12\">\r\n    <path clip-path=\"url(#pa48bcf517a)\" d=\"M 212.37 36.004889 \r\nL 343.343769 36.004889 \r\nL 343.343769 18.141392 \r\nL 212.37 18.141392 \r\nz\r\n\"/>\r\n   </g>\r\n   <g id=\"patch_13\">\r\n    <path d=\"M 212.37 247.910625 \r\nL 212.37 7.2 \r\n\" style=\"fill:none;stroke:#000000;stroke-linecap:square;stroke-linejoin:miter;stroke-width:3;\"/>\r\n   </g>\r\n   <g id=\"patch_14\">\r\n    <path d=\"M 393.23378 247.910625 \r\nL 393.23378 7.2 \r\n\" style=\"fill:none;stroke:#000000;stroke-linecap:square;stroke-linejoin:miter;stroke-width:3;\"/>\r\n   </g>\r\n   <g id=\"patch_15\">\r\n    <path d=\"M 212.37 247.910625 \r\nL 393.23378 247.910625 \r\n\" style=\"fill:none;stroke:#000000;stroke-linecap:square;stroke-linejoin:miter;stroke-width:3;\"/>\r\n   </g>\r\n   <g id=\"patch_16\">\r\n    <path d=\"M 212.37 7.2 \r\nL 393.23378 7.2 \r\n\" style=\"fill:none;stroke:#000000;stroke-linecap:square;stroke-linejoin:miter;stroke-width:3;\"/>\r\n   </g>\r\n  </g>\r\n </g>\r\n <defs>\r\n  <clipPath id=\"pa48bcf517a\">\r\n   <rect height=\"240.710625\" width=\"180.86378\" x=\"212.37\" y=\"7.2\"/>\r\n  </clipPath>\r\n </defs>\r\n</svg>\r\n",
      "image/png": "[encoded data removed]"
     },
     "metadata": {}
    }
   ],
   "source": [
    "plt.style.use(\"grayscale\")\n",
    "fig, ax = plt.subplots()\n",
    "ax.barh(group_names, group_data)"
   ]
  },
  {
   "cell_type": "code",
   "execution_count": 64,
   "metadata": {},
   "outputs": [],
   "source": [
    "def hej(x):\n",
    "    print(\"Du skrev följande: {}\".format(x))"
   ]
  },
  {
   "cell_type": "code",
   "execution_count": 65,
   "metadata": {},
   "outputs": [
    {
     "output_type": "stream",
     "name": "stdout",
     "text": [
      "Du skrev följande: vad är detta\n"
     ]
    }
   ],
   "source": [
    "hej(\"vad är detta\")"
   ]
  },
  {
   "cell_type": "code",
   "execution_count": 69,
   "metadata": {},
   "outputs": [],
   "source": [
    "# 35 Even or odd\n",
    "\n",
    "def even_odd(x):\n",
    "    x = int(x)\n",
    "    if x % 2 == 0: \n",
    "        print(\"{} is even\".format(x))\n",
    "    else:\n",
    "        print(\"{} is uneven\".format(x))"
   ]
  },
  {
   "cell_type": "code",
   "execution_count": 81,
   "metadata": {},
   "outputs": [
    {
     "output_type": "stream",
     "name": "stdout",
     "text": [
      "0 is even\n1 is uneven\n2 is even\n3 is uneven\n4 is even\n5 is uneven\n6 is even\n7 is uneven\n8 is even\n9 is uneven\n"
     ]
    }
   ],
   "source": [
    "for i in range(10):\n",
    "    even_odd(i)"
   ]
  },
  {
   "cell_type": "code",
   "execution_count": 68,
   "metadata": {},
   "outputs": [],
   "source": [
    "# 36 dog years\n",
    "\n",
    "def dogyear(x):\n",
    "    x = int(x)\n",
    "    if x == 1 or x == 2:\n",
    "        print(\"The dog is {} years old in human years\".format(x*10.5))\n",
    "    elif x > 2:\n",
    "        y = x-2\n",
    "        print(\"The dog is {} years old in human years\".format(y*4 + 21))\n",
    "    elif x < 0:\n",
    "        print(\"you wrote a negative age, dogs cant be negative\")"
   ]
  },
  {
   "cell_type": "code",
   "execution_count": 83,
   "metadata": {},
   "outputs": [
    {
     "output_type": "stream",
     "name": "stdout",
     "text": [
      "The dog is 37 years old in human years\n"
     ]
    }
   ],
   "source": [
    "dogyear(6)"
   ]
  },
  {
   "cell_type": "code",
   "execution_count": 88,
   "metadata": {},
   "outputs": [],
   "source": [
    "# 41 classifying triangles\n",
    "def triangle(x,y,z):\n",
    "    x = int(x)\n",
    "    y = int(y)\n",
    "    z = int(z)\n",
    "    one = x - y\n",
    "    two = x - z\n",
    "    three = y-z\n",
    "    if x == y and y == z:\n",
    "        print(\"The sides of the triangle have all the same lenght {} which makes it a equilateral\".format(x))\n",
    "    elif one != 0:\n",
    "        print(\"fel\")\n",
    "    \n",
    "    "
   ]
  },
  {
   "cell_type": "code",
   "execution_count": 86,
   "metadata": {},
   "outputs": [
    {
     "output_type": "stream",
     "name": "stdout",
     "text": [
      "The youngest child is Linus\n"
     ]
    }
   ],
   "source": [
    "def my_function(x,*kids):\n",
    "  print(\"The youngest child is \" + kids[1])\n",
    "\n",
    "\n",
    "my_function(\"Emil\", \"Tobias\", \"Linus\") "
   ]
  },
  {
   "cell_type": "code",
   "execution_count": 90,
   "metadata": {},
   "outputs": [
    {
     "output_type": "stream",
     "name": "stdout",
     "text": [
      "The sides of the triangle have all the same lenght 5 which makes it a equilateral\n"
     ]
    }
   ],
   "source": [
    "triangle(5,5,5)"
   ]
  },
  {
   "cell_type": "code",
   "execution_count": 93,
   "metadata": {},
   "outputs": [
    {
     "output_type": "execute_result",
     "data": {
      "text/plain": [
       "['34', '4534']"
      ]
     },
     "metadata": {},
     "execution_count": 93
    }
   ],
   "source": [
    "#Hittar siffror i sträng\n",
    "\n",
    "import re\n",
    "re.findall(\"\\d+\", \"a34 rwerr4534\")"
   ]
  },
  {
   "cell_type": "code",
   "execution_count": 96,
   "metadata": {},
   "outputs": [
    {
     "output_type": "stream",
     "name": "stdout",
     "text": [
      "Talen ovanför medel är [78]\nTalen under medel är [3, 6, 3, 1, 6, 5, 2]\n"
     ]
    }
   ],
   "source": [
    "# 119\n",
    "def testar():\n",
    "    x = int(input(\"Skriv en siffra, skriv 0 för att avsluta\"))\n",
    "    lista = []\n",
    "    hög = []\n",
    "    låg = []\n",
    "    while x != 0:\n",
    "        lista.append(x)\n",
    "        x = int(input(\"Skriv en siffra, skriv 0 för att avsluta\"))\n",
    "    medel = sum(lista)/len(lista)    \n",
    "    for n in lista:\n",
    "        if n > medel:\n",
    "            hög.append(n)\n",
    "        else:\n",
    "            låg.append(n)\n",
    "    print(\"Talen ovanför medel är {}\".format(hög))\n",
    "\n",
    "    print(\"Talen under medel är {}\".format(låg))\n",
    "    \n",
    "testar()"
   ]
  },
  {
   "cell_type": "code",
   "execution_count": 97,
   "metadata": {},
   "outputs": [],
   "source": [
    "# 120 formating a list\n",
    "def formatList(items):\n",
    "    if len(items) == 0:\n",
    "        return\"<empty>\"\n",
    "    if len(items) == 1:\n",
    "        return str(items[0])\n",
    "    \n",
    "    #Loop over all of the items in the list except the last two\n",
    "    result = \"\"\n",
    "    for i in range(0, len(items)-2):\n",
    "        result = result + str(items[i]) + \", \"\n",
    "        \n",
    "    # add the second last and last items to the result seperated by and\n",
    "    result = result + str(items[len(items)-2]) + \" and \"\n",
    "    result = result + str(items[len(items)-1])\n",
    "    \n",
    "    return result\n"
   ]
  },
  {
   "cell_type": "code",
   "execution_count": 98,
   "metadata": {},
   "outputs": [
    {
     "output_type": "stream",
     "name": "stdout",
     "text": [
      "['hej', 'på']\n"
     ]
    }
   ],
   "source": [
    "lista = [\"hej\", \"på\", \"dig\"]\n",
    "print(lista[:2])"
   ]
  },
  {
   "cell_type": "code",
   "execution_count": 99,
   "metadata": {},
   "outputs": [
    {
     "output_type": "stream",
     "name": "stdout",
     "text": [
      "['hej', 'på'] and dig\n"
     ]
    }
   ],
   "source": [
    "print(\"{} and {}\".format(lista[:2], lista[2]))"
   ]
  },
  {
   "cell_type": "code",
   "execution_count": 100,
   "metadata": {},
   "outputs": [
    {
     "output_type": "stream",
     "name": "stdout",
     "text": [
      "hej\npå\ndig\n"
     ]
    }
   ],
   "source": [
    "for name in lista:\n",
    "    print(name)"
   ]
  },
  {
   "cell_type": "code",
   "execution_count": 101,
   "metadata": {},
   "outputs": [
    {
     "output_type": "execute_result",
     "data": {
      "text/plain": [
       "'hej, på and dig'"
      ]
     },
     "metadata": {},
     "execution_count": 101
    }
   ],
   "source": [
    "formatList(lista)"
   ]
  },
  {
   "cell_type": "code",
   "execution_count": 102,
   "metadata": {},
   "outputs": [
    {
     "output_type": "execute_result",
     "data": {
      "text/plain": [
       "\"['hej', 'på', 'dig']\""
      ]
     },
     "metadata": {},
     "execution_count": 102
    }
   ],
   "source": [
    "str(lista[0:])"
   ]
  },
  {
   "cell_type": "code",
   "execution_count": 110,
   "metadata": {},
   "outputs": [
    {
     "output_type": "stream",
     "name": "stdout",
     "text": [
      "[ 5  6  9 -2  0 -2]\nIn place number 0 did the Lotto have number 0 while you had 5 they are not the same\nIn place number 1 did the Lotto have number 4 while you had 10 they are not the same\nIn place number 2 did the Lotto have number 10 while you had 19 they are not the same\nIn place number 3 did the Lotto have number 23 while you had 21 they are not the same\nLotto and You both has the number 26 in place number 4\nIn place number 5 did the Lotto have number 36 while you had 34 they are not the same\n"
     ]
    }
   ],
   "source": [
    "# random number \n",
    "\n",
    "# exercise of random number generator from Lotto\n",
    "import random\n",
    "nummer = []\n",
    "\n",
    "\n",
    "vår = random.sample(range(49), 6)\n",
    "lotto = random.sample(range(49), 6)\n",
    "lotto.sort()\n",
    "vår.sort()\n",
    "svar = np.subtract(vår,lotto)\n",
    "print(svar)\n",
    "for i in range(len(svar)):\n",
    "    if svar[i] == 0:\n",
    "        print(\"Lotto and You both has the number {} in place number {}\".format(vår[i], i))\n",
    "    if svar[i] != 0:\n",
    "        print(\"In place number {} did the Lotto have number {} while you had {} they are not the same\".format(i, lotto[i], vår[i]))"
   ]
  },
  {
   "cell_type": "code",
   "execution_count": 111,
   "metadata": {},
   "outputs": [
    {
     "output_type": "stream",
     "name": "stdout",
     "text": [
      "[2.0]\n",
      "[4.0]\n",
      "[2.0, 1.0]\n",
      "[4.0, 2.0]\n",
      "[2.0, 1.0, 5.0]\n",
      "[4.0, 2.0, 3.0]\n",
      "[2.0, 1.0, 5.0, 1.0]\n",
      "[4.0, 2.0, 3.0, 2.0]\n",
      "[2.0, 1.0, 5.0, 1.0, 5.0]\n",
      "[4.0, 2.0, 3.0, 2.0, 3.0]\n",
      "[2.0, 1.0, 5.0, 1.0, 5.0, 1.0]\n",
      "[4.0, 2.0, 3.0, 2.0, 3.0, 2.0]\n",
      "[2.0, 1.0, 5.0, 1.0, 5.0, 1.0, 5.0]\n",
      "[4.0, 2.0, 3.0, 2.0, 3.0, 2.0, 3.0]\n",
      "[2.0, 1.0, 5.0, 1.0, 5.0, 1.0, 5.0, 1.0]\n",
      "[4.0, 2.0, 3.0, 2.0, 3.0, 2.0, 3.0, 2.0]\n",
      "[2.0, 1.0, 5.0, 1.0, 5.0, 1.0, 5.0, 1.0, 4.0]\n",
      "[4.0, 2.0, 3.0, 2.0, 3.0, 2.0, 3.0, 2.0, 0.0]\n",
      "[2.0, 1.0, 5.0, 1.0, 5.0, 1.0, 5.0, 1.0, 4.0, 4.0]\n",
      "[4.0, 2.0, 3.0, 2.0, 3.0, 2.0, 3.0, 2.0, 0.0, 5.0]\n",
      "[2.0, 1.0, 5.0, 1.0, 5.0, 1.0, 5.0, 1.0, 4.0, 4.0]\n",
      "[4.0, 2.0, 3.0, 2.0, 3.0, 2.0, 3.0, 2.0, 0.0, 5.0]\n",
      "The regression line is: y = 0.18x + 2.08\n"
     ]
    }
   ],
   "source": [
    "# Exercise 124 creating a line for best fit\n",
    "\n",
    "#x_value = int(input(\"Write the 1: value for x \"))\n",
    "\n",
    "x_list = []\n",
    "y_list = []\n",
    "x_value = 1\n",
    "i = 0\n",
    "while x_value != 0:\n",
    "    i = i+1\n",
    "    x_value = float(input(\"Write the {}: value for x, write 0 to exit\".format(i)))\n",
    "    \n",
    "    if x_value != 0:\n",
    "        y_value = float(input(\"Write the {}: value for y, write 0 to exit \".format(i)))\n",
    "        x_list.append(x_value)\n",
    "        y_list.append(y_value)\n",
    "\n",
    "    print(x_list)\n",
    "    print(y_list)\n",
    " \n",
    "\n",
    "x_list = np.array(x_list)  #make it to array so I can use numpy\n",
    "y_list = np.array(y_list)\n",
    "\n",
    "\n",
    "x_y = np.multiply(x_list, y_list).sum()\n",
    "\n",
    "second_term = (x_list.sum() * y_list.sum())/len(x_list)\n",
    "\n",
    "above_term = x_y - second_term\n",
    "\n",
    "hi = x_list**2\n",
    "hi = hi.sum()\n",
    "\n",
    "below_term = hi - (x_list.sum()**2)/len(x_list)\n",
    "\n",
    "m_ekv = round(above_term/below_term,2)\n",
    "\n",
    "\n",
    "b = y_list.mean() - m_ekv * x_list.mean()\n",
    "b = round(b,2)\n",
    "\n",
    "print(\"The regression line is: y = {}x + {}\".format(m_ekv, b))"
   ]
  },
  {
   "cell_type": "code",
   "execution_count": 112,
   "metadata": {},
   "outputs": [],
   "source": [
    "# 127 is a list already sorted?\n",
    "def sorted_list(lista):\n",
    "    if len(lista)<= 1:\n",
    "                print(\"there is only 0 or 1 value\")\n",
    "                return False\n",
    "\n",
    "    for i in range(len(lista)):\n",
    "        \n",
    "        try:\n",
    "            #print(\"{} < {}\".format(lista[i],lista[i+1]))\n",
    "            if lista[i] < lista[i +1]:  \n",
    "                continue    \n",
    "            else:\n",
    "                return False\n",
    "        except:\n",
    "            #continue  #when the last number is out of range the program continues, don't need it because if its true that it is sorted\n",
    "            return True"
   ]
  },
  {
   "cell_type": "code",
   "execution_count": 113,
   "metadata": {},
   "outputs": [
    {
     "output_type": "stream",
     "name": "stdout",
     "text": [
      "True\n"
     ]
    }
   ],
   "source": [
    "if 3 < 6:\n",
    "    print(\"True\")"
   ]
  },
  {
   "cell_type": "code",
   "execution_count": 114,
   "metadata": {},
   "outputs": [
    {
     "output_type": "stream",
     "name": "stdout",
     "text": [
      "there is only 0 or 1 value\n"
     ]
    },
    {
     "output_type": "execute_result",
     "data": {
      "text/plain": [
       "False"
      ]
     },
     "metadata": {},
     "execution_count": 114
    }
   ],
   "source": [
    "x = [5]\n",
    "\n",
    "sorted_list(x)"
   ]
  },
  {
   "cell_type": "code",
   "execution_count": 117,
   "metadata": {},
   "outputs": [
    {
     "output_type": "execute_result",
     "data": {
      "text/plain": [
       "False"
      ]
     },
     "metadata": {},
     "execution_count": 117
    }
   ],
   "source": [
    "# Säger true om listan är sorterad från lägsta till högsta, false annars\n",
    "\n",
    "x = [1,4,6,7,8]\n",
    "\n",
    "sorted_list(x)"
   ]
  },
  {
   "cell_type": "code",
   "execution_count": 118,
   "metadata": {},
   "outputs": [
    {
     "output_type": "stream",
     "name": "stdout",
     "text": [
      "H\ne\nj\n \nv\na\nd\n \ns\nä\ng\ne\nr\n \nd\nu\n?\n"
     ]
    }
   ],
   "source": [
    "#Remember that strings are like lists\n",
    "ho = \"Hej vad säger du?\"\n",
    "for i in ho:\n",
    "    print(i)"
   ]
  },
  {
   "cell_type": "code",
   "execution_count": 119,
   "metadata": {},
   "outputs": [],
   "source": [
    "# 128 count the elements\n",
    "\n",
    "def countRange(lista, min_value, max_value):\n",
    "    num_values = []\n",
    "\n",
    "    for nummer in lista:\n",
    "        if nummer >= min_value and nummer < max_value:\n",
    "            num_values.append(nummer)\n",
    "        \n",
    "    print(\"There are: {} observations that is between the max value {} and the min value of {}\".format( len(num_values), max_value, min_value))    \n"
   ]
  },
  {
   "cell_type": "code",
   "execution_count": 121,
   "metadata": {},
   "outputs": [
    {
     "output_type": "stream",
     "name": "stdout",
     "text": [
      "There are: 3 observations that is between the max value 6 and the min value of 2\n"
     ]
    }
   ],
   "source": [
    "lista = [2,5,7,3]\n",
    "countRange(lista,2,6)\n",
    "\n"
   ]
  },
  {
   "cell_type": "code",
   "execution_count": 122,
   "metadata": {},
   "outputs": [
    {
     "output_type": "execute_result",
     "data": {
      "text/plain": [
       "['+', '*', '-', '^', '(', ')', '-', 2.0, 1.0, 3.0, 2.0, '^']"
      ]
     },
     "metadata": {},
     "execution_count": 122
    }
   ],
   "source": [
    "# 129 Tokenizing a String\n",
    "# can use test_string.split()\n",
    "\n",
    "test_string = \"This math +*-     an^d () - shows that 21 = 32^\"\n",
    "\n",
    "token_list = []\n",
    "for word in test_string:\n",
    "    if word == \"+\" or word == \"-\" or word == \"/\" or word == \"*\" or word == \"(\" or word == \")\" or word == \"^\" or word == int :\n",
    "        token_list.append(word)\n",
    "    try:\n",
    "        token_list.append(float(word))\n",
    "    except:\n",
    "        continue\n",
    "        \n",
    "token_list"
   ]
  },
  {
   "cell_type": "code",
   "execution_count": 123,
   "metadata": {},
   "outputs": [],
   "source": [
    "# 129 Tokenizing a String en twist som gör att den skriver meningen utan tokens\n",
    "# can use test_string.split()\n",
    "\n",
    "def token_string(test_string):\n",
    "    new_string = \"\"\n",
    "    token_list = []\n",
    "    for word in test_string:\n",
    "        if word == \"+\" or word == \"-\" or word == \"/\" or word == \"*\" or word == \"(\" or word == \")\" or word == \"^\" or word == int :\n",
    "            token_list.append(word)\n",
    "        else:\n",
    "            try:\n",
    "                token_list.append(float(word))\n",
    "            except:\n",
    "                new_string = new_string + str(word)\n",
    "                pass\n",
    "\n",
    "    return new_string, token_list"
   ]
  },
  {
   "cell_type": "code",
   "execution_count": 124,
   "metadata": {},
   "outputs": [
    {
     "output_type": "execute_result",
     "data": {
      "text/plain": [
       "'This math problem is hard: x  y =    '"
      ]
     },
     "metadata": {},
     "execution_count": 124
    }
   ],
   "source": [
    "token_string(\"This math problem is hard: x + y = 12^3 / 43 (23)*2\")[0]\n"
   ]
  },
  {
   "cell_type": "code",
   "execution_count": 126,
   "metadata": {},
   "outputs": [],
   "source": [
    "# Övning med dictionaries\n",
    "\n",
    "family = {\"Per\": 25, \"Lars\": 31, \"Nils\": 32, \"Erik\": 25}\n"
   ]
  },
  {
   "cell_type": "code",
   "execution_count": 127,
   "metadata": {},
   "outputs": [
    {
     "output_type": "stream",
     "name": "stdout",
     "text": [
      "dict_keys(['Per', 'Lars', 'Nils', 'Erik'])\ndict_values([25, 31, 32, 25])\n"
     ]
    }
   ],
   "source": [
    "print(family.keys())\n",
    "print(family.values())"
   ]
  },
  {
   "cell_type": "code",
   "execution_count": 128,
   "metadata": {},
   "outputs": [
    {
     "output_type": "stream",
     "name": "stdout",
     "text": [
      "Per\n25\nLars\n31\nNils\n32\nErik\n25\n"
     ]
    }
   ],
   "source": [
    "for i in family:\n",
    "    print(i)\n",
    "    print(family[i])"
   ]
  },
  {
   "cell_type": "code",
   "execution_count": 129,
   "metadata": {},
   "outputs": [],
   "source": [
    "# 136 Reverse Lookup\n",
    "# Function that finds all the keys to a specifick value \n",
    "\n",
    "# x = dictionary \n",
    "# y = the value you want to search for \n",
    "\n",
    "\n",
    "def reverseLookup(x,y):\n",
    "    keys = []\n",
    "    \"\"\" \n",
    "    The function takes the dictionary (x) and the value (y) that we want to find a match for\n",
    "    it returns all the keys that have the value in a list\n",
    "    \"\"\"\n",
    "    for i in x:\n",
    "        if x[i] == y:\n",
    "            keys.append(i)\n",
    "    return keys"
   ]
  },
  {
   "cell_type": "code",
   "execution_count": 130,
   "metadata": {},
   "outputs": [
    {
     "output_type": "execute_result",
     "data": {
      "text/plain": [
       "['Lars']"
      ]
     },
     "metadata": {},
     "execution_count": 130
    }
   ],
   "source": [
    "test = {\"Per\": 25, \"Lars\": 2.6, \"Nils\": 32, \"Erik\": 25}\n",
    "\n",
    "reverseLookup(test,2.6)"
   ]
  },
  {
   "cell_type": "code",
   "execution_count": 131,
   "metadata": {},
   "outputs": [],
   "source": [
    "# 137 two dice rolls\n",
    "\n",
    "import random\n",
    "\n",
    "dice_total = []\n",
    "\n",
    "\n",
    "for i in range(1000):\n",
    "    dice1 =  random.randint(1,6)\n",
    "\n",
    "    dice2 = random.randint(1,6)\n",
    "\n",
    "    total = dice1 + dice2\n",
    "\n",
    "    dice_total.append(total)"
   ]
  },
  {
   "cell_type": "code",
   "execution_count": 132,
   "metadata": {},
   "outputs": [
    {
     "output_type": "execute_result",
     "data": {
      "text/plain": [
       "[5, 5, 11, 9, 6, 5, 7, 4, 7, 10]"
      ]
     },
     "metadata": {},
     "execution_count": 132
    }
   ],
   "source": [
    "dice_total[0:10]"
   ]
  },
  {
   "cell_type": "code",
   "execution_count": 133,
   "metadata": {},
   "outputs": [
    {
     "output_type": "stream",
     "name": "stdout",
     "text": [
      "Total   Simulated    Expected \n        percent      percent \n2     2.1999999999999997     2.7777777777777777\n3     5.4     5.555555555555555\n4     7.8     8.333333333333332\n5     9.4     11.11111111111111\n6     13.600000000000001     13.88888888888889\n7     18.5     16.666666666666664\n8     16.5     13.88888888888889\n9     9.0     11.11111111111111\n10     8.799999999999999     8.333333333333332\n11     6.2     5.555555555555555\n12     2.6     2.7777777777777777\n"
     ]
    }
   ],
   "source": [
    "from random import randrange\n",
    "\n",
    "NUM_RUNS = 1000\n",
    "D_MAX = 6\n",
    "\n",
    "def twoDice():\n",
    "    d1 = randrange(1,D_MAX + 1)\n",
    "    d2 = randrange(1,D_MAX + 1)\n",
    "    \n",
    "    return d1 + d2\n",
    "\n",
    "\n",
    "def main():\n",
    "    expected = {2: 1/36, 3: 2/36, 4: 3/36, 5: 4/36, 6: 5/36, 7: 6/36, 8: 5/36, 9: 4/36, 10: 3/36, 11: 2/36, 12: 1/36}\n",
    "    \n",
    "    counts = {2: 0, 3: 0, 4: 0, 5: 0, 6: 0, 7: 0, 8: 0, 9: 0, 10: 0, 11: 0, 12: 0}\n",
    "    \n",
    "    for t in range(NUM_RUNS):\n",
    "        t = twoDice()\n",
    "        counts[t] = counts[t] + 1\n",
    "    \n",
    "    print(\"Total   Simulated    Expected \")\n",
    "    print(\"        percent      percent \")\n",
    "    for i in sorted(counts.keys()):\n",
    "        print(\"{}     {}     {}\".format(i,counts[i] / NUM_RUNS *100, expected[i]*100))\n",
    "   \n",
    "main()      "
   ]
  },
  {
   "cell_type": "code",
   "execution_count": 134,
   "metadata": {},
   "outputs": [
    {
     "output_type": "error",
     "ename": "NameError",
     "evalue": "name 'counts' is not defined",
     "traceback": [
      "\u001b[1;31m---------------------------------------------------------------------------\u001b[0m",
      "\u001b[1;31mNameError\u001b[0m                                 Traceback (most recent call last)",
      "\u001b[1;32m<ipython-input-134-a4f46cc51d52>\u001b[0m in \u001b[0;36m<module>\u001b[1;34m\u001b[0m\n\u001b[0;32m      2\u001b[0m \u001b[1;32mfor\u001b[0m \u001b[0mt\u001b[0m \u001b[1;32min\u001b[0m \u001b[0mrange\u001b[0m\u001b[1;33m(\u001b[0m\u001b[0mNUM_RUNS\u001b[0m\u001b[1;33m)\u001b[0m\u001b[1;33m:\u001b[0m\u001b[1;33m\u001b[0m\u001b[1;33m\u001b[0m\u001b[0m\n\u001b[0;32m      3\u001b[0m         \u001b[0mt\u001b[0m \u001b[1;33m=\u001b[0m \u001b[0mtwoDice\u001b[0m\u001b[1;33m(\u001b[0m\u001b[1;33m)\u001b[0m\u001b[1;33m\u001b[0m\u001b[1;33m\u001b[0m\u001b[0m\n\u001b[1;32m----> 4\u001b[1;33m         \u001b[0mcounts\u001b[0m\u001b[1;33m[\u001b[0m\u001b[0mt\u001b[0m\u001b[1;33m]\u001b[0m \u001b[1;33m=\u001b[0m \u001b[0mcounts\u001b[0m\u001b[1;33m[\u001b[0m\u001b[0mt\u001b[0m\u001b[1;33m]\u001b[0m \u001b[1;33m+\u001b[0m \u001b[1;36m1\u001b[0m\u001b[1;33m\u001b[0m\u001b[1;33m\u001b[0m\u001b[0m\n\u001b[0m",
      "\u001b[1;31mNameError\u001b[0m: name 'counts' is not defined"
     ]
    }
   ],
   "source": [
    "#viktig\n",
    "for t in range(NUM_RUNS):\n",
    "        t = twoDice()\n",
    "        counts[t] = counts[t] + 1"
   ]
  },
  {
   "cell_type": "code",
   "execution_count": null,
   "metadata": {},
   "outputs": [],
   "source": [
    "# 138 text Messaging\n",
    "\n"
   ]
  },
  {
   "cell_type": "code",
   "execution_count": 135,
   "metadata": {},
   "outputs": [
    {
     "output_type": "execute_result",
     "data": {
      "text/plain": [
       "['G', 'H', 'I']"
      ]
     },
     "metadata": {},
     "execution_count": 135
    }
   ],
   "source": [
    "text_dic = {\"1\": [\".\",\",\",\"?\", \"!\", \":\"], \"2\": [\"A\",\"B\",\"C\"], \"3\": [\"D\",\"E\",\"F\"], \"4\": [\"G\",\"H\",\"I\"], \"5\": [\"J\",\"K\",\"L\"], \"6\": [\"M\",\"N\",\"O\"], \"7\": [\"P\",\"Q\",\"R\", \"S\"], \"8\": [\"T\",\"U\",\"V\"], \"9\": [\"W\",\"X\",\"Y\", \"Z\"], \"0\": [\" \"]} \n",
    "message = \"HELLO WORLD!\"\n",
    "text_dic[\"4\"]"
   ]
  },
  {
   "cell_type": "code",
   "execution_count": 136,
   "metadata": {},
   "outputs": [
    {
     "output_type": "stream",
     "name": "stdout",
     "text": [
      "The letter is: H and its on the numberpad 4 and is the ['G', 'H', 'I'] value on the button\nThe letter is: E and its on the numberpad 3 and is the ['D', 'E', 'F'] value on the button\nThe letter is: L and its on the numberpad 5 and is the ['J', 'K', 'L'] value on the button\nThe letter is: L and its on the numberpad 5 and is the ['J', 'K', 'L'] value on the button\nThe letter is: O and its on the numberpad 6 and is the ['M', 'N', 'O'] value on the button\nThe letter is:   and its on the numberpad 0 and is the [' '] value on the button\nThe letter is: W and its on the numberpad 9 and is the ['W', 'X', 'Y', 'Z'] value on the button\nThe letter is: O and its on the numberpad 6 and is the ['M', 'N', 'O'] value on the button\nThe letter is: R and its on the numberpad 7 and is the ['P', 'Q', 'R', 'S'] value on the button\nThe letter is: L and its on the numberpad 5 and is the ['J', 'K', 'L'] value on the button\nThe letter is: D and its on the numberpad 3 and is the ['D', 'E', 'F'] value on the button\nThe letter is: ! and its on the numberpad 1 and is the ['.', ',', '?', '!', ':'] value on the button\n"
     ]
    }
   ],
   "source": [
    "for i in message:\n",
    "    for j in text_dic:\n",
    "        if i in text_dic[j]:\n",
    "           # print(i)\n",
    "            #print(j)\n",
    "            for l, m in enumerate(text_dic[j]):\n",
    "                if m == i:\n",
    "                    l = l+1\n",
    "                    print(\"The letter is: {} and its on the numberpad {} and is the {} value on the button\".format(i, j, text_dic[j]))\n",
    "                    #print(\"The len number in the list is: {}\".format(l))\n",
    "        else:\n",
    "            pass"
   ]
  },
  {
   "cell_type": "code",
   "execution_count": 137,
   "metadata": {},
   "outputs": [
    {
     "output_type": "stream",
     "name": "stdout",
     "text": [
      "H\nE\nL\nL\nO\n \nW\nO\nR\nL\nD\n!\n1\n['.', ',', '?', '!', ':']\n2\n['A', 'B', 'C']\n3\n['D', 'E', 'F']\n4\n['G', 'H', 'I']\n5\n['J', 'K', 'L']\n6\n['M', 'N', 'O']\n7\n['P', 'Q', 'R', 'S']\n8\n['T', 'U', 'V']\n9\n['W', 'X', 'Y', 'Z']\n0\n[' ']\n"
     ]
    }
   ],
   "source": [
    "for i in message:\n",
    "    print(i)\n",
    "    \n",
    "for i in text_dic:\n",
    "    print(i)\n",
    "    print(text_dic[i])"
   ]
  },
  {
   "cell_type": "code",
   "execution_count": 138,
   "metadata": {},
   "outputs": [
    {
     "output_type": "stream",
     "name": "stdout",
     "text": [
      "Key        Symbols\n1         ['.', ',', '?', '!', ':']   \n2         ['A', 'B', 'C']   \n3         ['D', 'E', 'F']   \n4         ['G', 'H', 'I']   \n5         ['J', 'K', 'L']   \n6         ['M', 'N', 'O']   \n7         ['P', 'Q', 'R', 'S']   \n8         ['T', 'U', 'V']   \n9         ['W', 'X', 'Y', 'Z']   \n0         [' ']   \nThe letter is: H and its on the numberpad 4 and is the ['G', 'H', 'I'] value on the button\nThe letter is: E and its on the numberpad 3 and is the ['D', 'E', 'F'] value on the button\nThe letter is: L and its on the numberpad 5 and is the ['J', 'K', 'L'] value on the button\nThe letter is: L and its on the numberpad 5 and is the ['J', 'K', 'L'] value on the button\nThe letter is: O and its on the numberpad 6 and is the ['M', 'N', 'O'] value on the button\nThe letter is:   and its on the numberpad 0 and is the [' '] value on the button\nThe letter is: W and its on the numberpad 9 and is the ['W', 'X', 'Y', 'Z'] value on the button\nThe letter is: O and its on the numberpad 6 and is the ['M', 'N', 'O'] value on the button\nThe letter is: R and its on the numberpad 7 and is the ['P', 'Q', 'R', 'S'] value on the button\nThe letter is: L and its on the numberpad 5 and is the ['J', 'K', 'L'] value on the button\nThe letter is: D and its on the numberpad 3 and is the ['D', 'E', 'F'] value on the button\n"
     ]
    }
   ],
   "source": [
    "\n",
    "def text_messaging(message):\n",
    "    message = message.upper()\n",
    "    text_dic = {\"1\": [\".\",\",\",\"?\", \"!\", \":\"], \"2\": [\"A\",\"B\",\"C\"], \"3\": [\"D\",\"E\",\"F\"], \"4\": [\"G\",\"H\",\"I\"], \"5\": [\"J\",\"K\",\"L\"], \"6\": [\"M\",\"N\",\"O\"], \"7\": [\"P\",\"Q\",\"R\", \"S\"], \"8\": [\"T\",\"U\",\"V\"], \"9\": [\"W\",\"X\",\"Y\", \"Z\"], \"0\": [\" \"]} \n",
    "    print(\"Key        Symbols\")\n",
    "    for i in text_dic:\n",
    "        print(\"{}         {}   \".format(i, text_dic[i]))\n",
    "    \n",
    "    for i in message:\n",
    "        for j in text_dic:\n",
    "            if i in text_dic[j]:\n",
    "               # print(i)\n",
    "                #print(j)\n",
    "                for l, m in enumerate(text_dic[j]):\n",
    "                    if m == i:\n",
    "                        l = l+1\n",
    "                        print(\"The letter is: {} and its on the numberpad {} and is the {} value on the button\".format(i, j, text_dic[j]))\n",
    "                        #print(\"The len number in the list is: {}\".format(l))\n",
    "            else:\n",
    "                pass\n",
    "            \n",
    "            \n",
    "text_messaging(\"Hello World\")"
   ]
  },
  {
   "cell_type": "code",
   "execution_count": 139,
   "metadata": {},
   "outputs": [
    {
     "output_type": "stream",
     "name": "stdout",
     "text": [
      "Key        Symbols\n1         ['.', ',', '?', '!', ':']   \n2         ['A', 'B', 'C']   \n3         ['D', 'E', 'F']   \n4         ['G', 'H', 'I']   \n5         ['J', 'K', 'L']   \n6         ['M', 'N', 'O']   \n7         ['P', 'Q', 'R', 'S']   \n8         ['T', 'U', 'V']   \n9         ['W', 'X', 'Y', 'Z']   \n0         [' ']   \n44335555556660966677755531111\n"
     ]
    }
   ],
   "source": [
    "\n",
    "def text_messaging2(message):\n",
    "    message = message.upper()\n",
    "    text_dic = {\"1\": [\".\",\",\",\"?\", \"!\", \":\"], \"2\": [\"A\",\"B\",\"C\"], \"3\": [\"D\",\"E\",\"F\"], \"4\": [\"G\",\"H\",\"I\"], \"5\": [\"J\",\"K\",\"L\"], \"6\": [\"M\",\"N\",\"O\"], \"7\": [\"P\",\"Q\",\"R\", \"S\"], \"8\": [\"T\",\"U\",\"V\"], \"9\": [\"W\",\"X\",\"Y\", \"Z\"], \"0\": [\" \"]} \n",
    "    print(\"Key        Symbols\")\n",
    "    for i in text_dic:\n",
    "        print(\"{}         {}   \".format(i, text_dic[i]))\n",
    "    \n",
    "    text = \"\"\n",
    "    for i in message:\n",
    "        for j in text_dic:\n",
    "            if i in text_dic[j]:\n",
    "               # print(i)\n",
    "                #print(j)\n",
    "                for l, m in enumerate(text_dic[j]):\n",
    "                    if m == i:\n",
    "                        l = l+1\n",
    "                        text = text + j * l\n",
    "    print(text)\n",
    "\n",
    "    \n",
    "    \n",
    "text_messaging2(\"Hello World!\")"
   ]
  },
  {
   "cell_type": "code",
   "execution_count": 140,
   "metadata": {},
   "outputs": [
    {
     "output_type": "execute_result",
     "data": {
      "text/plain": [
       "'Pyon'"
      ]
     },
     "metadata": {},
     "execution_count": 140
    }
   ],
   "source": [
    "# The exercises below comes fr0m https://www.w3resource.com/python-exercises/string/\n",
    "# number 3\n",
    "\n",
    "def first_last(string):\n",
    "    \"\"\"This function takes a string and returns the two first and last characters togheter in a string\"\"\"\n",
    "    string  = str(string)\n",
    "    empty = \"\"\n",
    "    if len(string) <= 2:\n",
    "        return empty\n",
    "    else:\n",
    "        empty = empty + string[:2]   # gets the two first characters\n",
    "        empty = empty + string[-2:]   #Gets the two last charaters\n",
    "        return empty    \n",
    "\n",
    "    \n",
    "first_last(\"Python\")"
   ]
  },
  {
   "cell_type": "code",
   "execution_count": 141,
   "metadata": {},
   "outputs": [
    {
     "output_type": "execute_result",
     "data": {
      "text/plain": [
       "'resta$t'"
      ]
     },
     "metadata": {},
     "execution_count": 141
    }
   ],
   "source": [
    "# Number 4\n",
    "def dollar_sign(string):\n",
    "    \"\"\"This function takes a string and change the character of the first letter tp $ for the rest\n",
    "    Example: Test = Tes$\"\"\"\n",
    "    string  = str(string)\n",
    "    first = string[0]\n",
    "    empty = \"\"\n",
    "    empty = empty + first\n",
    "    for i in string[1:]:\n",
    "        if first.lower() == i or first.upper() == i:\n",
    "            empty = empty + \"$\"\n",
    "        else:\n",
    "            empty = empty + i\n",
    "    return empty\n",
    "\n",
    "dollar_sign(\"restart\")"
   ]
  },
  {
   "cell_type": "code",
   "execution_count": 142,
   "metadata": {},
   "outputs": [
    {
     "output_type": "stream",
     "name": "stdout",
     "text": [
      "[(2, 1), (1, 2), (2, 3), (4, 4), (2, 5)]\n"
     ]
    }
   ],
   "source": [
    "def last(n): return n[-1]\n",
    "\n",
    "def sort_list_last(tuples):\n",
    "  return sorted(tuples, key=last)\n",
    "\n",
    "print(sort_list_last([(2, 5), (1, 2), (4, 4), (2, 3), (2, 1)]))"
   ]
  },
  {
   "cell_type": "code",
   "execution_count": 143,
   "metadata": {},
   "outputs": [
    {
     "output_type": "execute_result",
     "data": {
      "text/plain": [
       "'j'"
      ]
     },
     "metadata": {},
     "execution_count": 143
    }
   ],
   "source": [
    "last(\"hej\")"
   ]
  },
  {
   "cell_type": "code",
   "execution_count": null,
   "metadata": {},
   "outputs": [],
   "source": []
  },
  {
   "cell_type": "code",
   "execution_count": null,
   "metadata": {},
   "outputs": [],
   "source": []
  },
  {
   "cell_type": "code",
   "execution_count": null,
   "metadata": {},
   "outputs": [],
   "source": []
  },
  {
   "cell_type": "code",
   "execution_count": null,
   "metadata": {},
   "outputs": [],
   "source": []
  },
  {
   "cell_type": "code",
   "execution_count": null,
   "metadata": {},
   "outputs": [],
   "source": []
  },
  {
   "cell_type": "code",
   "execution_count": null,
   "metadata": {},
   "outputs": [],
   "source": []
  },
  {
   "cell_type": "code",
   "execution_count": null,
   "metadata": {},
   "outputs": [],
   "source": []
  },
  {
   "cell_type": "code",
   "execution_count": null,
   "metadata": {},
   "outputs": [],
   "source": []
  },
  {
   "cell_type": "code",
   "execution_count": null,
   "metadata": {},
   "outputs": [],
   "source": []
  },
  {
   "cell_type": "code",
   "execution_count": null,
   "metadata": {},
   "outputs": [],
   "source": []
  },
  {
   "cell_type": "code",
   "execution_count": null,
   "metadata": {},
   "outputs": [],
   "source": []
  },
  {
   "cell_type": "code",
   "execution_count": null,
   "metadata": {},
   "outputs": [],
   "source": []
  }
 ],
 "metadata": {
  "kernelspec": {
   "display_name": "Python 3",
   "language": "python",
   "name": "python3"
  },
  "language_info": {
   "codemirror_mode": {
    "name": "ipython",
    "version": 3
   },
   "file_extension": ".py",
   "mimetype": "text/x-python",
   "name": "python",
   "nbconvert_exporter": "python",
   "pygments_lexer": "ipython3",
   "version": "3.8.5-final"
  }
 },
 "nbformat": 4,
 "nbformat_minor": 2
}